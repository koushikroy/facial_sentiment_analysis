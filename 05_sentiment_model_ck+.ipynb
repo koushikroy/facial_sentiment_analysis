{
  "nbformat": 4,
  "nbformat_minor": 0,
  "metadata": {
    "colab": {
      "name": "04_sentiment_model.ipynb",
      "provenance": [],
      "collapsed_sections": [],
      "include_colab_link": true
    },
    "kernelspec": {
      "name": "python3",
      "display_name": "Python 3"
    },
    "language_info": {
      "name": "python"
    },
    "accelerator": "GPU"
  },
  "cells": [
    {
      "cell_type": "markdown",
      "metadata": {
        "id": "view-in-github",
        "colab_type": "text"
      },
      "source": [
        "<a href=\"https://colab.research.google.com/github/koushikroy/facial_sentiment_analysis/blob/main/05_sentiment_model_ck%2B.ipynb\" target=\"_parent\"><img src=\"https://colab.research.google.com/assets/colab-badge.svg\" alt=\"Open In Colab\"/></a>"
      ]
    },
    {
      "cell_type": "markdown",
      "metadata": {
        "id": "qnnzgZRCE1-R"
      },
      "source": [
        "**Jafee Dataset, Conv Model**"
      ]
    },
    {
      "cell_type": "markdown",
      "metadata": {
        "id": "u3zz8eqIRUTh"
      },
      "source": [
        "# Loading Dataset"
      ]
    },
    {
      "cell_type": "code",
      "metadata": {
        "colab": {
          "base_uri": "https://localhost:8080/"
        },
        "id": "ekrXQ-BtRN_v",
        "outputId": "9c36fb38-9a8b-473a-ac5f-d33a83165590"
      },
      "source": [
        "# Downloading Dataset\n",
        "!wget 'https://github.com/koushikroy/facial_sentiment_analysis/blob/main/dataset/jaffe/Jaffe_Image_Dataset_train_test.rar?raw=true'"
      ],
      "execution_count": null,
      "outputs": [
        {
          "output_type": "stream",
          "text": [
            "--2021-08-17 17:46:33--  https://github.com/koushikroy/facial_sentiment_analysis/blob/main/dataset/jaffe/Jaffe_Image_Dataset_train_test.rar?raw=true\n",
            "Resolving github.com (github.com)... 52.69.186.44\n",
            "Connecting to github.com (github.com)|52.69.186.44|:443... connected.\n",
            "HTTP request sent, awaiting response... 302 Found\n",
            "Location: https://github.com/koushikroy/facial_sentiment_analysis/raw/main/dataset/jaffe/Jaffe_Image_Dataset_train_test.rar [following]\n",
            "--2021-08-17 17:46:33--  https://github.com/koushikroy/facial_sentiment_analysis/raw/main/dataset/jaffe/Jaffe_Image_Dataset_train_test.rar\n",
            "Reusing existing connection to github.com:443.\n",
            "HTTP request sent, awaiting response... 302 Found\n",
            "Location: https://raw.githubusercontent.com/koushikroy/facial_sentiment_analysis/main/dataset/jaffe/Jaffe_Image_Dataset_train_test.rar [following]\n",
            "--2021-08-17 17:46:33--  https://raw.githubusercontent.com/koushikroy/facial_sentiment_analysis/main/dataset/jaffe/Jaffe_Image_Dataset_train_test.rar\n",
            "Resolving raw.githubusercontent.com (raw.githubusercontent.com)... 185.199.108.133, 185.199.109.133, 185.199.110.133, ...\n",
            "Connecting to raw.githubusercontent.com (raw.githubusercontent.com)|185.199.108.133|:443... connected.\n",
            "HTTP request sent, awaiting response... 200 OK\n",
            "Length: 10334769 (9.9M) [application/octet-stream]\n",
            "Saving to: ‘Jaffe_Image_Dataset_train_test.rar?raw=true’\n",
            "\n",
            "Jaffe_Image_Dataset 100%[===================>]   9.86M  --.-KB/s    in 0.1s    \n",
            "\n",
            "2021-08-17 17:46:34 (79.5 MB/s) - ‘Jaffe_Image_Dataset_train_test.rar?raw=true’ saved [10334769/10334769]\n",
            "\n"
          ],
          "name": "stdout"
        }
      ]
    },
    {
      "cell_type": "code",
      "metadata": {
        "colab": {
          "base_uri": "https://localhost:8080/"
        },
        "id": "S452IsxCGO_d",
        "outputId": "b43e0352-d5d0-4a42-c21a-7c7d98b51f6b"
      },
      "source": [
        "!unrar x \"/content/Jaffe_Image_Dataset_train_test.rar?raw=true\" \"/content\""
      ],
      "execution_count": null,
      "outputs": [
        {
          "output_type": "stream",
          "text": [
            "\n",
            "UNRAR 5.50 freeware      Copyright (c) 1993-2017 Alexander Roshal\n",
            "\n",
            "\n",
            "Extracting from /content/Jaffe_Image_Dataset_train_test.rar?raw=true\n",
            "\n",
            "Creating    /content/Jaffe_Image_Dataset_train_test                   OK\n",
            "Creating    /content/Jaffe_Image_Dataset_train_test/train             OK\n",
            "Creating    /content/Jaffe_Image_Dataset_train_test/train/Angry       OK\n",
            "Extracting  /content/Jaffe_Image_Dataset_train_test/train/Angry/KA.AN1.39.tiff     \b\b\b\b  0%\b\b\b\b\b  OK \n",
            "Extracting  /content/Jaffe_Image_Dataset_train_test/train/Angry/KA.AN3.41.tiff     \b\b\b\b  0%\b\b\b\b\b  OK \n",
            "Extracting  /content/Jaffe_Image_Dataset_train_test/train/Angry/KL.AN1.167.tiff     \b\b\b\b  1%\b\b\b\b\b  OK \n",
            "Extracting  /content/Jaffe_Image_Dataset_train_test/train/Angry/KL.AN2.168.tiff     \b\b\b\b  1%\b\b\b\b\b  OK \n",
            "Extracting  /content/Jaffe_Image_Dataset_train_test/train/Angry/KM.AN1.17.tiff     \b\b\b\b  2%\b\b\b\b\b  OK \n",
            "Extracting  /content/Jaffe_Image_Dataset_train_test/train/Angry/KM.AN2.18.tiff     \b\b\b\b  2%\b\b\b\b\b  OK \n",
            "Extracting  /content/Jaffe_Image_Dataset_train_test/train/Angry/KM.AN3.19.tiff     \b\b\b\b  3%\b\b\b\b\b  OK \n",
            "Extracting  /content/Jaffe_Image_Dataset_train_test/train/Angry/KR.AN2.84.tiff     \b\b\b\b  3%\b\b\b\b\b  OK \n",
            "Extracting  /content/Jaffe_Image_Dataset_train_test/train/Angry/KR.AN3.85.tiff     \b\b\b\b  4%\b\b\b\b\b  OK \n",
            "Extracting  /content/Jaffe_Image_Dataset_train_test/train/Angry/MK.AN1.125.tiff     \b\b\b\b  4%\b\b\b\b\b  OK \n",
            "Extracting  /content/Jaffe_Image_Dataset_train_test/train/Angry/MK.AN2.126.tiff     \b\b\b\b  5%\b\b\b\b\b  OK \n",
            "Extracting  /content/Jaffe_Image_Dataset_train_test/train/Angry/MK.AN3.127.tiff     \b\b\b\b  5%\b\b\b\b\b  OK \n",
            "Extracting  /content/Jaffe_Image_Dataset_train_test/train/Angry/NA.AN1.211.tiff     \b\b\b\b  6%\b\b\b\b\b  OK \n",
            "Extracting  /content/Jaffe_Image_Dataset_train_test/train/Angry/NA.AN2.212.tiff     \b\b\b\b  6%\b\b\b\b\b  OK \n",
            "Extracting  /content/Jaffe_Image_Dataset_train_test/train/Angry/NA.AN3.213.tiff     \b\b\b\b  6%\b\b\b\b\b  OK \n",
            "Extracting  /content/Jaffe_Image_Dataset_train_test/train/Angry/NM.AN1.104.tiff     \b\b\b\b  7%\b\b\b\b\b  OK \n",
            "Extracting  /content/Jaffe_Image_Dataset_train_test/train/Angry/NM.AN3.106.tiff     \b\b\b\b  7%\b\b\b\b\b  OK \n",
            "Extracting  /content/Jaffe_Image_Dataset_train_test/train/Angry/TM.AN1.190.tiff     \b\b\b\b  8%\b\b\b\b\b  OK \n",
            "Extracting  /content/Jaffe_Image_Dataset_train_test/train/Angry/TM.AN2.191.tiff     \b\b\b\b  8%\b\b\b\b\b  OK \n",
            "Extracting  /content/Jaffe_Image_Dataset_train_test/train/Angry/UY.AN1.146.tiff     \b\b\b\b  9%\b\b\b\b\b  OK \n",
            "Extracting  /content/Jaffe_Image_Dataset_train_test/train/Angry/UY.AN2.147.tiff     \b\b\b\b  9%\b\b\b\b\b  OK \n",
            "Extracting  /content/Jaffe_Image_Dataset_train_test/train/Angry/UY.AN3.148.tiff     \b\b\b\b 10%\b\b\b\b\b  OK \n",
            "Extracting  /content/Jaffe_Image_Dataset_train_test/train/Angry/YM.AN1.61.tiff     \b\b\b\b 10%\b\b\b\b\b  OK \n",
            "Extracting  /content/Jaffe_Image_Dataset_train_test/train/Angry/YM.AN2.62.tiff     \b\b\b\b 11%\b\b\b\b\b  OK \n",
            "Extracting  /content/Jaffe_Image_Dataset_train_test/train/Angry/YM.AN3.63.tiff     \b\b\b\b 11%\b\b\b\b\b  OK \n",
            "Creating    /content/Jaffe_Image_Dataset_train_test/train/Disgust     OK\n",
            "Extracting  /content/Jaffe_Image_Dataset_train_test/train/Disgust/KA.DI1.42.tiff     \b\b\b\b 12%\b\b\b\b\b  OK \n",
            "Extracting  /content/Jaffe_Image_Dataset_train_test/train/Disgust/KA.DI3.44.tiff     \b\b\b\b 12%\b\b\b\b\b  OK \n",
            "Extracting  /content/Jaffe_Image_Dataset_train_test/train/Disgust/KL.DI1.170.tiff     \b\b\b\b 13%\b\b\b\b\b  OK \n",
            "Extracting  /content/Jaffe_Image_Dataset_train_test/train/Disgust/KL.DI3.172.tiff     \b\b\b\b 13%\b\b\b\b\b  OK \n",
            "Extracting  /content/Jaffe_Image_Dataset_train_test/train/Disgust/KL.DI4.173.tiff     \b\b\b\b 14%\b\b\b\b\b  OK \n",
            "Extracting  /content/Jaffe_Image_Dataset_train_test/train/Disgust/KM.DI1.20.tiff     \b\b\b\b 14%\b\b\b\b\b  OK \n",
            "Extracting  /content/Jaffe_Image_Dataset_train_test/train/Disgust/KM.DI3.22.tiff     \b\b\b\b 14%\b\b\b\b\b  OK \n",
            "Extracting  /content/Jaffe_Image_Dataset_train_test/train/Disgust/KR.DI1.86.tiff     \b\b\b\b 15%\b\b\b\b\b  OK \n",
            "Extracting  /content/Jaffe_Image_Dataset_train_test/train/Disgust/KR.DI2.87.tiff     \b\b\b\b 15%\b\b\b\b\b  OK \n",
            "Extracting  /content/Jaffe_Image_Dataset_train_test/train/Disgust/MK.DI1.128.tiff     \b\b\b\b 16%\b\b\b\b\b  OK \n",
            "Extracting  /content/Jaffe_Image_Dataset_train_test/train/Disgust/MK.DI2.129.tiff     \b\b\b\b 16%\b\b\b\b\b  OK \n",
            "Extracting  /content/Jaffe_Image_Dataset_train_test/train/Disgust/MK.DI3.130.tiff     \b\b\b\b 17%\b\b\b\b\b  OK \n",
            "Extracting  /content/Jaffe_Image_Dataset_train_test/train/Disgust/NA.DI1.214.tiff     \b\b\b\b 17%\b\b\b\b\b  OK \n",
            "Extracting  /content/Jaffe_Image_Dataset_train_test/train/Disgust/NA.DI2.215.tiff     \b\b\b\b 18%\b\b\b\b\b  OK \n",
            "Extracting  /content/Jaffe_Image_Dataset_train_test/train/Disgust/NA.DI3.216.tiff     \b\b\b\b 18%\b\b\b\b\b  OK \n",
            "Extracting  /content/Jaffe_Image_Dataset_train_test/train/Disgust/NM.DI1.107.tiff     \b\b\b\b 19%\b\b\b\b\b  OK \n",
            "Extracting  /content/Jaffe_Image_Dataset_train_test/train/Disgust/TM.DI1.193.tiff     \b\b\b\b 19%\b\b\b\b\b  OK \n",
            "Extracting  /content/Jaffe_Image_Dataset_train_test/train/Disgust/TM.DI2.194.tiff     \b\b\b\b 20%\b\b\b\b\b  OK \n",
            "Extracting  /content/Jaffe_Image_Dataset_train_test/train/Disgust/TM.DI3.195.tiff     \b\b\b\b 20%\b\b\b\b\b  OK \n",
            "Extracting  /content/Jaffe_Image_Dataset_train_test/train/Disgust/UY.DI2.150.tiff     \b\b\b\b 20%\b\b\b\b\b  OK \n",
            "Extracting  /content/Jaffe_Image_Dataset_train_test/train/Disgust/UY.DI3.151.tiff     \b\b\b\b 21%\b\b\b\b\b  OK \n",
            "Extracting  /content/Jaffe_Image_Dataset_train_test/train/Disgust/YM.DI1.64.tiff     \b\b\b\b 21%\b\b\b\b\b  OK \n",
            "Extracting  /content/Jaffe_Image_Dataset_train_test/train/Disgust/YM.DI2.65.tiff     \b\b\b\b 22%\b\b\b\b\b  OK \n",
            "Extracting  /content/Jaffe_Image_Dataset_train_test/train/Disgust/YM.DI3.66.tiff     \b\b\b\b 22%\b\b\b\b\b  OK \n",
            "Creating    /content/Jaffe_Image_Dataset_train_test/train/Fear        OK\n",
            "Extracting  /content/Jaffe_Image_Dataset_train_test/train/Fear/KA.FE1.45.tiff     \b\b\b\b 23%\b\b\b\b\b  OK \n",
            "Extracting  /content/Jaffe_Image_Dataset_train_test/train/Fear/KA.FE3.47.tiff     \b\b\b\b 23%\b\b\b\b\b  OK \n",
            "Extracting  /content/Jaffe_Image_Dataset_train_test/train/Fear/KA.FE4.48.tiff     \b\b\b\b 24%\b\b\b\b\b  OK \n",
            "Extracting  /content/Jaffe_Image_Dataset_train_test/train/Fear/KL.FE1.174.tiff     \b\b\b\b 24%\b\b\b\b\b  OK \n",
            "Extracting  /content/Jaffe_Image_Dataset_train_test/train/Fear/KL.FE2.175.tiff     \b\b\b\b 25%\b\b\b\b\b  OK \n",
            "Extracting  /content/Jaffe_Image_Dataset_train_test/train/Fear/KL.FE3.176.tiff     \b\b\b\b 25%\b\b\b\b\b  OK \n",
            "Extracting  /content/Jaffe_Image_Dataset_train_test/train/Fear/KM.FE1.23.tiff     \b\b\b\b 26%\b\b\b\b\b  OK \n",
            "Extracting  /content/Jaffe_Image_Dataset_train_test/train/Fear/KM.FE3.25.tiff     \b\b\b\b 26%\b\b\b\b\b  OK \n",
            "Extracting  /content/Jaffe_Image_Dataset_train_test/train/Fear/KR.FE1.89.tiff     \b\b\b\b 27%\b\b\b\b\b  OK \n",
            "Extracting  /content/Jaffe_Image_Dataset_train_test/train/Fear/KR.FE2.90.tiff     \b\b\b\b 27%\b\b\b\b\b  OK \n",
            "Extracting  /content/Jaffe_Image_Dataset_train_test/train/Fear/KR.FE3.91.tiff     \b\b\b\b 28%\b\b\b\b\b  OK \n",
            "Extracting  /content/Jaffe_Image_Dataset_train_test/train/Fear/MK.FE1.131.tiff     \b\b\b\b 28%\b\b\b\b\b  OK \n",
            "Extracting  /content/Jaffe_Image_Dataset_train_test/train/Fear/MK.FE2.132.tiff     \b\b\b\b 28%\b\b\b\b\b  OK \n",
            "Extracting  /content/Jaffe_Image_Dataset_train_test/train/Fear/MK.FE3.133.tiff     \b\b\b\b 29%\b\b\b\b\b  OK \n",
            "Extracting  /content/Jaffe_Image_Dataset_train_test/train/Fear/NA.FE1.217.tiff     \b\b\b\b 29%\b\b\b\b\b  OK \n",
            "Extracting  /content/Jaffe_Image_Dataset_train_test/train/Fear/NA.FE3.219.tiff     \b\b\b\b 30%\b\b\b\b\b  OK \n",
            "Extracting  /content/Jaffe_Image_Dataset_train_test/train/Fear/NM.FE1.110.tiff     \b\b\b\b 30%\b\b\b\b\b  OK \n",
            "Extracting  /content/Jaffe_Image_Dataset_train_test/train/Fear/NM.FE2.111.tiff     \b\b\b\b 31%\b\b\b\b\b  OK \n",
            "Extracting  /content/Jaffe_Image_Dataset_train_test/train/Fear/NM.FE3.112.tiff     \b\b\b\b 31%\b\b\b\b\b  OK \n",
            "Extracting  /content/Jaffe_Image_Dataset_train_test/train/Fear/TM.FE1.196.tiff     \b\b\b\b 32%\b\b\b\b\b  OK \n",
            "Extracting  /content/Jaffe_Image_Dataset_train_test/train/Fear/TM.FE3.198.tiff     \b\b\b\b 32%\b\b\b\b\b  OK \n",
            "Extracting  /content/Jaffe_Image_Dataset_train_test/train/Fear/UY.FE1.152.tiff     \b\b\b\b 33%\b\b\b\b\b  OK \n",
            "Extracting  /content/Jaffe_Image_Dataset_train_test/train/Fear/UY.FE2.153.tiff     \b\b\b\b 33%\b\b\b\b\b  OK \n",
            "Extracting  /content/Jaffe_Image_Dataset_train_test/train/Fear/UY.FE3.154.tiff     \b\b\b\b 34%\b\b\b\b\b  OK \n",
            "Extracting  /content/Jaffe_Image_Dataset_train_test/train/Fear/YM.FE1.67.tiff     \b\b\b\b 34%\b\b\b\b\b  OK \n",
            "Extracting  /content/Jaffe_Image_Dataset_train_test/train/Fear/YM.FE2.68.tiff     \b\b\b\b 34%\b\b\b\b\b  OK \n",
            "Extracting  /content/Jaffe_Image_Dataset_train_test/train/Fear/YM.FE3.69.tiff     \b\b\b\b 35%\b\b\b\b\b  OK \n",
            "Creating    /content/Jaffe_Image_Dataset_train_test/train/Happy       OK\n",
            "Extracting  /content/Jaffe_Image_Dataset_train_test/train/Happy/KA.HA1.29.tiff     \b\b\b\b 35%\b\b\b\b\b  OK \n",
            "Extracting  /content/Jaffe_Image_Dataset_train_test/train/Happy/KA.HA3.31.tiff     \b\b\b\b 36%\b\b\b\b\b  OK \n",
            "Extracting  /content/Jaffe_Image_Dataset_train_test/train/Happy/KA.HA4.32.tiff     \b\b\b\b 36%\b\b\b\b\b  OK \n",
            "Extracting  /content/Jaffe_Image_Dataset_train_test/train/Happy/KL.HA1.158.tiff     \b\b\b\b 37%\b\b\b\b\b  OK \n",
            "Extracting  /content/Jaffe_Image_Dataset_train_test/train/Happy/KL.HA3.160.tiff     \b\b\b\b 37%\b\b\b\b\b  OK \n",
            "Extracting  /content/Jaffe_Image_Dataset_train_test/train/Happy/KM.HA1.4.tiff     \b\b\b\b 38%\b\b\b\b\b  OK \n",
            "Extracting  /content/Jaffe_Image_Dataset_train_test/train/Happy/KM.HA2.5.tiff     \b\b\b\b 38%\b\b\b\b\b  OK \n",
            "Extracting  /content/Jaffe_Image_Dataset_train_test/train/Happy/KM.HA3.6.tiff     \b\b\b\b 39%\b\b\b\b\b  OK \n",
            "Extracting  /content/Jaffe_Image_Dataset_train_test/train/Happy/KM.HA4.7.tiff     \b\b\b\b 39%\b\b\b\b\b  OK \n",
            "Extracting  /content/Jaffe_Image_Dataset_train_test/train/Happy/KR.HA1.74.tiff     \b\b\b\b 40%\b\b\b\b\b  OK \n",
            "Extracting  /content/Jaffe_Image_Dataset_train_test/train/Happy/KR.HA2.75.tiff     \b\b\b\b 40%\b\b\b\b\b  OK \n",
            "Extracting  /content/Jaffe_Image_Dataset_train_test/train/Happy/MK.HA1.116.tiff     \b\b\b\b 41%\b\b\b\b\b  OK \n",
            "Extracting  /content/Jaffe_Image_Dataset_train_test/train/Happy/MK.HA2.117.tiff     \b\b\b\b 41%\b\b\b\b\b  OK \n",
            "Extracting  /content/Jaffe_Image_Dataset_train_test/train/Happy/MK.HA3.118.tiff     \b\b\b\b 42%\b\b\b\b\b  OK \n",
            "Extracting  /content/Jaffe_Image_Dataset_train_test/train/Happy/NA.HA2.203.tiff     \b\b\b\b 42%\b\b\b\b\b  OK \n",
            "Extracting  /content/Jaffe_Image_Dataset_train_test/train/Happy/NA.HA3.204.tiff     \b\b\b\b 42%\b\b\b\b\b  OK \n",
            "Extracting  /content/Jaffe_Image_Dataset_train_test/train/Happy/NM.HA1.95.tiff     \b\b\b\b 43%\b\b\b\b\b  OK \n",
            "Extracting  /content/Jaffe_Image_Dataset_train_test/train/Happy/NM.HA2.96.tiff     \b\b\b\b 43%\b\b\b\b\b  OK \n",
            "Extracting  /content/Jaffe_Image_Dataset_train_test/train/Happy/NM.HA3.97.tiff     \b\b\b\b 44%\b\b\b\b\b  OK \n",
            "Extracting  /content/Jaffe_Image_Dataset_train_test/train/Happy/TM.HA1.180.tiff     \b\b\b\b 44%\b\b\b\b\b  OK \n",
            "Extracting  /content/Jaffe_Image_Dataset_train_test/train/Happy/TM.HA2.181.tiff     \b\b\b\b 45%\b\b\b\b\b  OK \n",
            "Extracting  /content/Jaffe_Image_Dataset_train_test/train/Happy/TM.HA3.182.tiff     \b\b\b\b 45%\b\b\b\b\b  OK \n",
            "Extracting  /content/Jaffe_Image_Dataset_train_test/train/Happy/UY.HA1.137.tiff     \b\b\b\b 46%\b\b\b\b\b  OK \n",
            "Extracting  /content/Jaffe_Image_Dataset_train_test/train/Happy/UY.HA3.139.tiff     \b\b\b\b 46%\b\b\b\b\b  OK \n",
            "Extracting  /content/Jaffe_Image_Dataset_train_test/train/Happy/YM.HA1.52.tiff     \b\b\b\b 47%\b\b\b\b\b  OK \n",
            "Extracting  /content/Jaffe_Image_Dataset_train_test/train/Happy/YM.HA3.54.tiff     \b\b\b\b 47%\b\b\b\b\b  OK \n",
            "Creating    /content/Jaffe_Image_Dataset_train_test/train/Neutral     OK\n",
            "Extracting  /content/Jaffe_Image_Dataset_train_test/train/Neutral/KA.NE1.26.tiff     \b\b\b\b 48%\b\b\b\b\b  OK \n",
            "Extracting  /content/Jaffe_Image_Dataset_train_test/train/Neutral/KA.NE2.27.tiff     \b\b\b\b 48%\b\b\b\b\b  OK \n",
            "Extracting  /content/Jaffe_Image_Dataset_train_test/train/Neutral/KL.NE1.155.tiff     \b\b\b\b 49%\b\b\b\b\b  OK \n",
            "Extracting  /content/Jaffe_Image_Dataset_train_test/train/Neutral/KL.NE2.156.tiff     \b\b\b\b 49%\b\b\b\b\b  OK \n",
            "Extracting  /content/Jaffe_Image_Dataset_train_test/train/Neutral/KL.NE3.157.tiff     \b\b\b\b 50%\b\b\b\b\b  OK \n",
            "Extracting  /content/Jaffe_Image_Dataset_train_test/train/Neutral/KM.NE1.1.tiff     \b\b\b\b 50%\b\b\b\b\b  OK \n",
            "Extracting  /content/Jaffe_Image_Dataset_train_test/train/Neutral/KM.NE2.2.tiff     \b\b\b\b 51%\b\b\b\b\b  OK \n",
            "Extracting  /content/Jaffe_Image_Dataset_train_test/train/Neutral/KM.NE3.3.tiff     \b\b\b\b 51%\b\b\b\b\b  OK \n",
            "Extracting  /content/Jaffe_Image_Dataset_train_test/train/Neutral/KR.NE1.71.tiff     \b\b\b\b 51%\b\b\b\b\b  OK \n",
            "Extracting  /content/Jaffe_Image_Dataset_train_test/train/Neutral/KR.NE2.72.tiff     \b\b\b\b 52%\b\b\b\b\b  OK \n",
            "Extracting  /content/Jaffe_Image_Dataset_train_test/train/Neutral/MK.NE1.113.tiff     \b\b\b\b 52%\b\b\b\b\b  OK \n",
            "Extracting  /content/Jaffe_Image_Dataset_train_test/train/Neutral/MK.NE2.114.tiff     \b\b\b\b 53%\b\b\b\b\b  OK \n",
            "Extracting  /content/Jaffe_Image_Dataset_train_test/train/Neutral/MK.NE3.115.tiff     \b\b\b\b 53%\b\b\b\b\b  OK \n",
            "Extracting  /content/Jaffe_Image_Dataset_train_test/train/Neutral/NA.NE1.199.tiff     \b\b\b\b 54%\b\b\b\b\b  OK \n",
            "Extracting  /content/Jaffe_Image_Dataset_train_test/train/Neutral/NA.NE3.201.tiff     \b\b\b\b 54%\b\b\b\b\b  OK \n",
            "Extracting  /content/Jaffe_Image_Dataset_train_test/train/Neutral/NM.NE1.92.tiff     \b\b\b\b 55%\b\b\b\b\b  OK \n",
            "Extracting  /content/Jaffe_Image_Dataset_train_test/train/Neutral/NM.NE2.93.tiff     \b\b\b\b 55%\b\b\b\b\b  OK \n",
            "Extracting  /content/Jaffe_Image_Dataset_train_test/train/Neutral/NM.NE3.94.tiff     \b\b\b\b 56%\b\b\b\b\b  OK \n",
            "Extracting  /content/Jaffe_Image_Dataset_train_test/train/Neutral/TM.NE1.177.tiff     \b\b\b\b 56%\b\b\b\b\b  OK \n",
            "Extracting  /content/Jaffe_Image_Dataset_train_test/train/Neutral/TM.NE2.178.tiff     \b\b\b\b 57%\b\b\b\b\b  OK \n",
            "Extracting  /content/Jaffe_Image_Dataset_train_test/train/Neutral/TM.NE3.179.tiff     \b\b\b\b 57%\b\b\b\b\b  OK \n",
            "Extracting  /content/Jaffe_Image_Dataset_train_test/train/Neutral/UY.NE1.134.tiff     \b\b\b\b 58%\b\b\b\b\b  OK \n",
            "Extracting  /content/Jaffe_Image_Dataset_train_test/train/Neutral/UY.NE2.135.tiff     \b\b\b\b 58%\b\b\b\b\b  OK \n",
            "Extracting  /content/Jaffe_Image_Dataset_train_test/train/Neutral/YM.NE1.49.tiff     \b\b\b\b 58%\b\b\b\b\b  OK \n",
            "Extracting  /content/Jaffe_Image_Dataset_train_test/train/Neutral/YM.NE2.50.tiff     \b\b\b\b 59%\b\b\b\b\b  OK \n",
            "Creating    /content/Jaffe_Image_Dataset_train_test/train/SAD         OK\n",
            "Extracting  /content/Jaffe_Image_Dataset_train_test/train/SAD/KA.SA1.33.tiff     \b\b\b\b 59%\b\b\b\b\b  OK \n",
            "Extracting  /content/Jaffe_Image_Dataset_train_test/train/SAD/KA.SA2.34.tiff     \b\b\b\b 60%\b\b\b\b\b  OK \n",
            "Extracting  /content/Jaffe_Image_Dataset_train_test/train/SAD/KL.SA1.161.tiff     \b\b\b\b 60%\b\b\b\b\b  OK \n",
            "Extracting  /content/Jaffe_Image_Dataset_train_test/train/SAD/KL.SA2.162.tiff     \b\b\b\b 61%\b\b\b\b\b  OK \n",
            "Extracting  /content/Jaffe_Image_Dataset_train_test/train/SAD/KL.SA3.163.tiff     \b\b\b\b 61%\b\b\b\b\b  OK \n",
            "Extracting  /content/Jaffe_Image_Dataset_train_test/train/SAD/KM.SA1.9.tiff     \b\b\b\b 62%\b\b\b\b\b  OK \n",
            "Extracting  /content/Jaffe_Image_Dataset_train_test/train/SAD/KM.SA2.10.tiff     \b\b\b\b 62%\b\b\b\b\b  OK \n",
            "Extracting  /content/Jaffe_Image_Dataset_train_test/train/SAD/KM.SA3.11.tiff     \b\b\b\b 63%\b\b\b\b\b  OK \n",
            "Extracting  /content/Jaffe_Image_Dataset_train_test/train/SAD/KM.SA5.13.tiff     \b\b\b\b 63%\b\b\b\b\b  OK \n",
            "Extracting  /content/Jaffe_Image_Dataset_train_test/train/SAD/KR.SA1.77.tiff     \b\b\b\b 64%\b\b\b\b\b  OK \n",
            "Extracting  /content/Jaffe_Image_Dataset_train_test/train/SAD/KR.SA3.79.tiff     \b\b\b\b 64%\b\b\b\b\b  OK \n",
            "Extracting  /content/Jaffe_Image_Dataset_train_test/train/SAD/MK.SA1.119.tiff     \b\b\b\b 65%\b\b\b\b\b  OK \n",
            "Extracting  /content/Jaffe_Image_Dataset_train_test/train/SAD/MK.SA2.120.tiff     \b\b\b\b 65%\b\b\b\b\b  OK \n",
            "Extracting  /content/Jaffe_Image_Dataset_train_test/train/SAD/NA.SA1.205.tiff     \b\b\b\b 66%\b\b\b\b\b  OK \n",
            "Extracting  /content/Jaffe_Image_Dataset_train_test/train/SAD/NA.SA2.206.tiff     \b\b\b\b 66%\b\b\b\b\b  OK \n",
            "Extracting  /content/Jaffe_Image_Dataset_train_test/train/SAD/NA.SA3.207.tiff     \b\b\b\b 66%\b\b\b\b\b  OK \n",
            "Extracting  /content/Jaffe_Image_Dataset_train_test/train/SAD/NM.SA1.98.tiff     \b\b\b\b 67%\b\b\b\b\b  OK \n",
            "Extracting  /content/Jaffe_Image_Dataset_train_test/train/SAD/NM.SA2.99.tiff     \b\b\b\b 67%\b\b\b\b\b  OK \n",
            "Extracting  /content/Jaffe_Image_Dataset_train_test/train/SAD/NM.SA3.100.tiff     \b\b\b\b 68%\b\b\b\b\b  OK \n",
            "Extracting  /content/Jaffe_Image_Dataset_train_test/train/SAD/TM.SA1.184.tiff     \b\b\b\b 68%\b\b\b\b\b  OK \n",
            "Extracting  /content/Jaffe_Image_Dataset_train_test/train/SAD/TM.SA2.185.tiff     \b\b\b\b 69%\b\b\b\b\b  OK \n",
            "Extracting  /content/Jaffe_Image_Dataset_train_test/train/SAD/TM.SA3.186.tiff     \b\b\b\b 69%\b\b\b\b\b  OK \n",
            "Extracting  /content/Jaffe_Image_Dataset_train_test/train/SAD/UY.SA1.140.tiff     \b\b\b\b 70%\b\b\b\b\b  OK \n",
            "Extracting  /content/Jaffe_Image_Dataset_train_test/train/SAD/UY.SA3.142.tiff     \b\b\b\b 70%\b\b\b\b\b  OK \n",
            "Extracting  /content/Jaffe_Image_Dataset_train_test/train/SAD/YM.SA1.55.tiff     \b\b\b\b 71%\b\b\b\b\b  OK \n",
            "Extracting  /content/Jaffe_Image_Dataset_train_test/train/SAD/YM.SA3.57.tiff     \b\b\b\b 71%\b\b\b\b\b  OK \n",
            "Creating    /content/Jaffe_Image_Dataset_train_test/train/Surprise    OK\n",
            "Extracting  /content/Jaffe_Image_Dataset_train_test/train/Surprise/KA.SU1.36.tiff     \b\b\b\b 72%\b\b\b\b\b  OK \n",
            "Extracting  /content/Jaffe_Image_Dataset_train_test/train/Surprise/KA.SU3.38.tiff     \b\b\b\b 72%\b\b\b\b\b  OK \n",
            "Extracting  /content/Jaffe_Image_Dataset_train_test/train/Surprise/KL.SU1.164.tiff     \b\b\b\b 73%\b\b\b\b\b  OK \n",
            "Extracting  /content/Jaffe_Image_Dataset_train_test/train/Surprise/KL.SU2.165.tiff     \b\b\b\b 73%\b\b\b\b\b  OK \n",
            "Extracting  /content/Jaffe_Image_Dataset_train_test/train/Surprise/KL.SU3.166.tiff     \b\b\b\b 74%\b\b\b\b\b  OK \n",
            "Extracting  /content/Jaffe_Image_Dataset_train_test/train/Surprise/KM.SU1.14.tiff     \b\b\b\b 74%\b\b\b\b\b  OK \n",
            "Extracting  /content/Jaffe_Image_Dataset_train_test/train/Surprise/KM.SU2.15.tiff     \b\b\b\b 74%\b\b\b\b\b  OK \n",
            "Extracting  /content/Jaffe_Image_Dataset_train_test/train/Surprise/KM.SU3.16.tiff     \b\b\b\b 75%\b\b\b\b\b  OK \n",
            "Extracting  /content/Jaffe_Image_Dataset_train_test/train/Surprise/KR.SU1.80.tiff     \b\b\b\b 75%\b\b\b\b\b  OK \n",
            "Extracting  /content/Jaffe_Image_Dataset_train_test/train/Surprise/KR.SU2.81.tiff     \b\b\b\b 76%\b\b\b\b\b  OK \n",
            "Extracting  /content/Jaffe_Image_Dataset_train_test/train/Surprise/KR.SU3.82.tiff     \b\b\b\b 76%\b\b\b\b\b  OK \n",
            "Extracting  /content/Jaffe_Image_Dataset_train_test/train/Surprise/MK.SU2.123.tiff     \b\b\b\b 77%\b\b\b\b\b  OK \n",
            "Extracting  /content/Jaffe_Image_Dataset_train_test/train/Surprise/MK.SU3.124.tiff     \b\b\b\b 77%\b\b\b\b\b  OK \n",
            "Extracting  /content/Jaffe_Image_Dataset_train_test/train/Surprise/NA.SU2.209.tiff     \b\b\b\b 78%\b\b\b\b\b  OK \n",
            "Extracting  /content/Jaffe_Image_Dataset_train_test/train/Surprise/NA.SU3.210.tiff     \b\b\b\b 78%\b\b\b\b\b  OK \n",
            "Extracting  /content/Jaffe_Image_Dataset_train_test/train/Surprise/NM.SU1.101.tiff     \b\b\b\b 79%\b\b\b\b\b  OK \n",
            "Extracting  /content/Jaffe_Image_Dataset_train_test/train/Surprise/NM.SU2.102.tiff     \b\b\b\b 79%\b\b\b\b\b  OK \n",
            "Extracting  /content/Jaffe_Image_Dataset_train_test/train/Surprise/NM.SU3.103.tiff     \b\b\b\b 80%\b\b\b\b\b  OK \n",
            "Extracting  /content/Jaffe_Image_Dataset_train_test/train/Surprise/TM.SU1.187.tiff     \b\b\b\b 80%\b\b\b\b\b  OK \n",
            "Extracting  /content/Jaffe_Image_Dataset_train_test/train/Surprise/TM.SU2.188.tiff     \b\b\b\b 81%\b\b\b\b\b  OK \n",
            "Extracting  /content/Jaffe_Image_Dataset_train_test/train/Surprise/TM.SU3.189.tiff     \b\b\b\b 81%\b\b\b\b\b  OK \n",
            "Extracting  /content/Jaffe_Image_Dataset_train_test/train/Surprise/UY.SU1.143.tiff     \b\b\b\b 81%\b\b\b\b\b  OK \n",
            "Extracting  /content/Jaffe_Image_Dataset_train_test/train/Surprise/UY.SU3.145.tiff     \b\b\b\b 82%\b\b\b\b\b  OK \n",
            "Extracting  /content/Jaffe_Image_Dataset_train_test/train/Surprise/YM.SU1.58.tiff     \b\b\b\b 82%\b\b\b\b\b  OK \n",
            "Extracting  /content/Jaffe_Image_Dataset_train_test/train/Surprise/YM.SU3.60.tiff     \b\b\b\b 83%\b\b\b\b\b  OK \n",
            "Creating    /content/Jaffe_Image_Dataset_train_test/validation        OK\n",
            "Creating    /content/Jaffe_Image_Dataset_train_test/validation/Angry  OK\n",
            "Extracting  /content/Jaffe_Image_Dataset_train_test/validation/Angry/KA.AN2.40.tiff     \b\b\b\b 83%\b\b\b\b\b  OK \n",
            "Extracting  /content/Jaffe_Image_Dataset_train_test/validation/Angry/KL.AN3.169.tiff     \b\b\b\b 84%\b\b\b\b\b  OK \n",
            "Extracting  /content/Jaffe_Image_Dataset_train_test/validation/Angry/KR.AN1.83.tiff     \b\b\b\b 84%\b\b\b\b\b  OK \n",
            "Extracting  /content/Jaffe_Image_Dataset_train_test/validation/Angry/NM.AN2.105.tiff     \b\b\b\b 85%\b\b\b\b\b  OK \n",
            "Extracting  /content/Jaffe_Image_Dataset_train_test/validation/Angry/TM.AN3.192.tiff     \b\b\b\b 85%\b\b\b\b\b  OK \n",
            "Creating    /content/Jaffe_Image_Dataset_train_test/validation/Disgust  OK\n",
            "Extracting  /content/Jaffe_Image_Dataset_train_test/validation/Disgust/KA.DI2.43.tiff     \b\b\b\b 86%\b\b\b\b\b  OK \n",
            "Extracting  /content/Jaffe_Image_Dataset_train_test/validation/Disgust/KL.DI2.171.tiff     \b\b\b\b 86%\b\b\b\b\b  OK \n",
            "Extracting  /content/Jaffe_Image_Dataset_train_test/validation/Disgust/KR.DI3.88.tiff     \b\b\b\b 87%\b\b\b\b\b  OK \n",
            "Extracting  /content/Jaffe_Image_Dataset_train_test/validation/Disgust/NM.DI3.109.tiff     \b\b\b\b 87%\b\b\b\b\b  OK \n",
            "Extracting  /content/Jaffe_Image_Dataset_train_test/validation/Disgust/UY.DI1.149.tiff     \b\b\b\b 88%\b\b\b\b\b  OK \n",
            "Creating    /content/Jaffe_Image_Dataset_train_test/validation/Fear   OK\n",
            "Extracting  /content/Jaffe_Image_Dataset_train_test/validation/Fear/KA.FE2.46.tiff     \b\b\b\b 88%\b\b\b\b\b  OK \n",
            "Extracting  /content/Jaffe_Image_Dataset_train_test/validation/Fear/KM.FE2.24.tiff     \b\b\b\b 89%\b\b\b\b\b  OK \n",
            "Extracting  /content/Jaffe_Image_Dataset_train_test/validation/Fear/NA.FE2.218.tiff     \b\b\b\b 89%\b\b\b\b\b  OK \n",
            "Extracting  /content/Jaffe_Image_Dataset_train_test/validation/Fear/TM.FE2.197.tiff     \b\b\b\b 89%\b\b\b\b\b  OK \n",
            "Extracting  /content/Jaffe_Image_Dataset_train_test/validation/Fear/YM.FE4.70.tiff     \b\b\b\b 90%\b\b\b\b\b  OK \n",
            "Creating    /content/Jaffe_Image_Dataset_train_test/validation/Happy  OK\n",
            "Extracting  /content/Jaffe_Image_Dataset_train_test/validation/Happy/KA.HA2.30.tiff     \b\b\b\b 90%\b\b\b\b\b  OK \n",
            "Extracting  /content/Jaffe_Image_Dataset_train_test/validation/Happy/KL.HA2.159.tiff     \b\b\b\b 91%\b\b\b\b\b  OK \n",
            "Extracting  /content/Jaffe_Image_Dataset_train_test/validation/Happy/NA.HA1.202.tiff     \b\b\b\b 91%\b\b\b\b\b  OK \n",
            "Extracting  /content/Jaffe_Image_Dataset_train_test/validation/Happy/UY.HA2.138.tiff     \b\b\b\b 92%\b\b\b\b\b  OK \n",
            "Extracting  /content/Jaffe_Image_Dataset_train_test/validation/Happy/YM.HA2.53.tiff     \b\b\b\b 92%\b\b\b\b\b  OK \n",
            "Creating    /content/Jaffe_Image_Dataset_train_test/validation/Neutral  OK\n",
            "Extracting  /content/Jaffe_Image_Dataset_train_test/validation/Neutral/KA.NE3.28.tiff     \b\b\b\b 93%\b\b\b\b\b  OK \n",
            "Extracting  /content/Jaffe_Image_Dataset_train_test/validation/Neutral/KR.NE3.73.tiff     \b\b\b\b 93%\b\b\b\b\b  OK \n",
            "Extracting  /content/Jaffe_Image_Dataset_train_test/validation/Neutral/NA.NE2.200.tiff     \b\b\b\b 94%\b\b\b\b\b  OK \n",
            "Extracting  /content/Jaffe_Image_Dataset_train_test/validation/Neutral/UY.NE3.136.tiff     \b\b\b\b 94%\b\b\b\b\b  OK \n",
            "Extracting  /content/Jaffe_Image_Dataset_train_test/validation/Neutral/YM.NE3.51.tiff     \b\b\b\b 95%\b\b\b\b\b  OK \n",
            "Creating    /content/Jaffe_Image_Dataset_train_test/validation/SAD    OK\n",
            "Extracting  /content/Jaffe_Image_Dataset_train_test/validation/SAD/KA.SA3.35.tiff     \b\b\b\b 95%\b\b\b\b\b  OK \n",
            "Extracting  /content/Jaffe_Image_Dataset_train_test/validation/SAD/KR.SA2.78.tiff     \b\b\b\b 96%\b\b\b\b\b  OK \n",
            "Extracting  /content/Jaffe_Image_Dataset_train_test/validation/SAD/MK.SA3.121.tiff     \b\b\b\b 96%\b\b\b\b\b  OK \n",
            "Extracting  /content/Jaffe_Image_Dataset_train_test/validation/SAD/UY.SA2.141.tiff     \b\b\b\b 96%\b\b\b\b\b  OK \n",
            "Extracting  /content/Jaffe_Image_Dataset_train_test/validation/SAD/YM.SA2.56.tiff     \b\b\b\b 97%\b\b\b\b\b  OK \n",
            "Creating    /content/Jaffe_Image_Dataset_train_test/validation/Surprise  OK\n",
            "Extracting  /content/Jaffe_Image_Dataset_train_test/validation/Surprise/KA.SU2.37.tiff     \b\b\b\b 97%\b\b\b\b\b  OK \n",
            "Extracting  /content/Jaffe_Image_Dataset_train_test/validation/Surprise/MK.SU1.122.tiff     \b\b\b\b 98%\b\b\b\b\b  OK \n",
            "Extracting  /content/Jaffe_Image_Dataset_train_test/validation/Surprise/NA.SU1.208.tiff     \b\b\b\b 98%\b\b\b\b\b  OK \n",
            "Extracting  /content/Jaffe_Image_Dataset_train_test/validation/Surprise/UY.SU2.144.tiff     \b\b\b\b 99%\b\b\b\b\b  OK \n",
            "Extracting  /content/Jaffe_Image_Dataset_train_test/validation/Surprise/YM.SU2.59.tiff     \b\b\b\b 99%\b\b\b\b\b  OK \n",
            "All OK\n"
          ],
          "name": "stdout"
        }
      ]
    },
    {
      "cell_type": "markdown",
      "metadata": {
        "id": "0e1HzHdlUKWt"
      },
      "source": [
        "# Data Preprocessing"
      ]
    },
    {
      "cell_type": "markdown",
      "metadata": {
        "id": "Ul-T5084WoMf"
      },
      "source": [
        "## Imports"
      ]
    },
    {
      "cell_type": "code",
      "metadata": {
        "id": "SkDjxRpTSb0F"
      },
      "source": [
        "import tensorflow as tf\n",
        "import keras_preprocessing\n",
        "from keras_preprocessing import image\n",
        "from keras_preprocessing.image import ImageDataGenerator"
      ],
      "execution_count": null,
      "outputs": []
    },
    {
      "cell_type": "markdown",
      "metadata": {
        "id": "luhJjtCcWwzJ"
      },
      "source": [
        "## Train Validation Generator with Augmentation\n",
        "Image Size = Width: 40, Height: 25 \n",
        "Maybe Resize = 50,50"
      ]
    },
    {
      "cell_type": "code",
      "metadata": {
        "colab": {
          "base_uri": "https://localhost:8080/"
        },
        "id": "QxH2J4FlWzMw",
        "outputId": "63df73fa-aaab-4f2f-a2a1-e56b823a711d"
      },
      "source": [
        "IMAGE_SIZE = 150\n",
        "TRAINING_DIR = \"/content/Jaffe_Image_Dataset_train_test/train\"\n",
        "training_datagen = ImageDataGenerator(\n",
        "     rescale = 1./255,\n",
        ")\n",
        "# training_datagen = ImageDataGenerator(\n",
        "#       rescale = 1./255,\n",
        "# \t    rotation_range=40,\n",
        "#       width_shift_range=0.2,\n",
        "#       height_shift_range=0.2,\n",
        "#       shear_range=0.2,\n",
        "#       zoom_range=0.2,\n",
        "#       horizontal_flip=False,\n",
        "#       fill_mode='nearest')\n",
        "\n",
        "VALIDATION_DIR = \"/content/Jaffe_Image_Dataset_train_test/validation\"\n",
        "validation_datagen = ImageDataGenerator(rescale = 1./255)\n",
        "\n",
        "train_generator = training_datagen.flow_from_directory(\n",
        "\tTRAINING_DIR,\n",
        "\ttarget_size=(IMAGE_SIZE,IMAGE_SIZE),\n",
        "\tclass_mode='categorical',\n",
        "  batch_size=32\n",
        ")\n",
        "\n",
        "validation_generator = validation_datagen.flow_from_directory(\n",
        "\tVALIDATION_DIR,\n",
        "\ttarget_size=(IMAGE_SIZE,IMAGE_SIZE),\n",
        "\tclass_mode='categorical',\n",
        "  batch_size=35\n",
        ")"
      ],
      "execution_count": null,
      "outputs": [
        {
          "output_type": "stream",
          "text": [
            "Found 178 images belonging to 7 classes.\n",
            "Found 35 images belonging to 7 classes.\n"
          ],
          "name": "stdout"
        },
        {
          "output_type": "stream",
          "text": [
            "/usr/local/lib/python3.7/dist-packages/keras_preprocessing/image/utils.py:179: UserWarning: Using \".tiff\" files with multiple bands will cause distortion. Please verify your output.\n",
            "  warnings.warn('Using \".tiff\" files with multiple bands '\n"
          ],
          "name": "stderr"
        }
      ]
    },
    {
      "cell_type": "code",
      "metadata": {
        "colab": {
          "base_uri": "https://localhost:8080/"
        },
        "id": "zzsURdH-QU1f",
        "outputId": "230ecfbb-aeaf-4400-8293-be21b666e7c8"
      },
      "source": [
        "178 / 32"
      ],
      "execution_count": null,
      "outputs": [
        {
          "output_type": "execute_result",
          "data": {
            "text/plain": [
              "5.5625"
            ]
          },
          "metadata": {
            "tags": []
          },
          "execution_count": 5
        }
      ]
    },
    {
      "cell_type": "code",
      "metadata": {
        "colab": {
          "base_uri": "https://localhost:8080/"
        },
        "id": "mRagZu-9QdWz",
        "outputId": "081bdae3-aee7-4313-e4c5-7cc999c121e2"
      },
      "source": [
        "len(train_generator)"
      ],
      "execution_count": null,
      "outputs": [
        {
          "output_type": "execute_result",
          "data": {
            "text/plain": [
              "6"
            ]
          },
          "metadata": {
            "tags": []
          },
          "execution_count": 6
        }
      ]
    },
    {
      "cell_type": "code",
      "metadata": {
        "colab": {
          "base_uri": "https://localhost:8080/"
        },
        "id": "kiiu9upjJPH_",
        "outputId": "6ad565ed-dc3c-44aa-a6a5-c49153089b5a"
      },
      "source": [
        "train_generator.class_indices"
      ],
      "execution_count": null,
      "outputs": [
        {
          "output_type": "execute_result",
          "data": {
            "text/plain": [
              "{'Angry': 0,\n",
              " 'Disgust': 1,\n",
              " 'Fear': 2,\n",
              " 'Happy': 3,\n",
              " 'Neutral': 4,\n",
              " 'SAD': 5,\n",
              " 'Surprise': 6}"
            ]
          },
          "metadata": {
            "tags": []
          },
          "execution_count": 7
        }
      ]
    },
    {
      "cell_type": "code",
      "metadata": {
        "colab": {
          "base_uri": "https://localhost:8080/"
        },
        "id": "7hr2e2rVv6NO",
        "outputId": "8bf42a6e-755f-43b8-b334-37f1ed498dbd"
      },
      "source": [
        ""
      ],
      "execution_count": null,
      "outputs": [
        {
          "output_type": "execute_result",
          "data": {
            "text/plain": [
              "<keras_preprocessing.image.directory_iterator.DirectoryIterator at 0x7f782e37e5d0>"
            ]
          },
          "metadata": {
            "tags": []
          },
          "execution_count": 12
        }
      ]
    },
    {
      "cell_type": "markdown",
      "metadata": {
        "id": "q6jI1QmhLKcq"
      },
      "source": [
        "# Transfer Learning "
      ]
    },
    {
      "cell_type": "code",
      "metadata": {
        "id": "I6myMgNcLOJv"
      },
      "source": [
        "# Import the required modules for model creation\n",
        "from tensorflow.keras import layers\n",
        "from tensorflow.keras.layers.experimental import preprocessing\n",
        "from tensorflow.keras.models import Sequential"
      ],
      "execution_count": null,
      "outputs": []
    },
    {
      "cell_type": "code",
      "metadata": {
        "id": "2eJJ_pQYMqnR",
        "colab": {
          "base_uri": "https://localhost:8080/"
        },
        "outputId": "5b88b764-4de9-4cb5-daf6-30607fcd00b0"
      },
      "source": [
        "# Setup base model and freeze its layers (this will extract features)\n",
        "base_model = tf.keras.applications.EfficientNetB0(include_top=False)\n",
        "base_model.trainable = False\n",
        "\n",
        "# Setup model architecture with trainable top layers\n",
        "inputs = layers.Input(shape=(IMAGE_SIZE, IMAGE_SIZE, 3), name=\"input_layer\") # shape of input image\n",
        "#x = data_augmentation(inputs) # augment images (only happens during training)\n",
        "x = base_model(inputs, training=False) # put the base model in inference mode so we can use it to extract features without updating the weights\n",
        "x = layers.GlobalAveragePooling2D(name=\"global_average_pooling\")(x) # pool the outputs of the base model\n",
        "x = layers.Dense(32, activation=\"relu\", name=\"dense\")(x)\n",
        "outputs = layers.Dense(7, activation=\"softmax\", name=\"output_layer\")(x) # same number of outputs as classes\n",
        "model_efficient = tf.keras.Model(inputs, outputs)"
      ],
      "execution_count": null,
      "outputs": [
        {
          "output_type": "stream",
          "text": [
            "Downloading data from https://storage.googleapis.com/keras-applications/efficientnetb0_notop.h5\n",
            "16711680/16705208 [==============================] - 0s 0us/step\n",
            "16719872/16705208 [==============================] - 0s 0us/step\n"
          ],
          "name": "stdout"
        }
      ]
    },
    {
      "cell_type": "code",
      "metadata": {
        "colab": {
          "base_uri": "https://localhost:8080/"
        },
        "id": "GVXE3P_FN5wc",
        "outputId": "062d6fab-9cdf-4773-f754-9a81af80e5b8"
      },
      "source": [
        "model_efficient.summary()"
      ],
      "execution_count": null,
      "outputs": [
        {
          "output_type": "stream",
          "text": [
            "Model: \"model\"\n",
            "_________________________________________________________________\n",
            "Layer (type)                 Output Shape              Param #   \n",
            "=================================================================\n",
            "input_layer (InputLayer)     [(None, 150, 150, 3)]     0         \n",
            "_________________________________________________________________\n",
            "efficientnetb0 (Functional)  (None, None, None, 1280)  4049571   \n",
            "_________________________________________________________________\n",
            "global_average_pooling (Glob (None, 1280)              0         \n",
            "_________________________________________________________________\n",
            "dense (Dense)                (None, 32)                40992     \n",
            "_________________________________________________________________\n",
            "output_layer (Dense)         (None, 7)                 231       \n",
            "=================================================================\n",
            "Total params: 4,090,794\n",
            "Trainable params: 41,223\n",
            "Non-trainable params: 4,049,571\n",
            "_________________________________________________________________\n"
          ],
          "name": "stdout"
        }
      ]
    },
    {
      "cell_type": "code",
      "metadata": {
        "colab": {
          "base_uri": "https://localhost:8080/"
        },
        "id": "V8V3jpgyOELp",
        "outputId": "45440b3d-b86f-4674-f243-38ccc4aa29e5"
      },
      "source": [
        "# Compile\n",
        "model_efficient.compile(loss=\"categorical_crossentropy\",\n",
        "              optimizer=tf.keras.optimizers.Adam(), # use Adam with default settings\n",
        "              metrics=[\"accuracy\"])\n",
        "\n",
        "# Fit\n",
        "history_all_classes_10_percent = model_efficient.fit(train_generator,\n",
        "                                           epochs=30) # fit for 5 epochs to keep experiments quick\n",
        "                                           #validation_data=test_data,\n",
        "                                           #validation_steps=int(0.15 * len(test_data)), # evaluate on smaller portion of test data\n",
        "                                           #callbacks=[checkpoint_callback]) # save best model weights to file"
      ],
      "execution_count": null,
      "outputs": [
        {
          "output_type": "stream",
          "text": [
            "Epoch 1/30\n",
            "7/7 [==============================] - 5s 80ms/step - loss: 1.9504 - accuracy: 0.1408\n",
            "Epoch 2/30\n",
            "7/7 [==============================] - 1s 76ms/step - loss: 1.9491 - accuracy: 0.1502\n",
            "Epoch 3/30\n",
            "7/7 [==============================] - 1s 77ms/step - loss: 1.9462 - accuracy: 0.1502\n",
            "Epoch 4/30\n",
            "7/7 [==============================] - 1s 81ms/step - loss: 1.9461 - accuracy: 0.1502\n",
            "Epoch 5/30\n",
            "7/7 [==============================] - 1s 76ms/step - loss: 1.9464 - accuracy: 0.1502\n",
            "Epoch 6/30\n",
            "7/7 [==============================] - 1s 75ms/step - loss: 1.9464 - accuracy: 0.1502\n",
            "Epoch 7/30\n",
            "7/7 [==============================] - 1s 77ms/step - loss: 1.9463 - accuracy: 0.1502\n",
            "Epoch 8/30\n",
            "7/7 [==============================] - 1s 77ms/step - loss: 1.9462 - accuracy: 0.1502\n",
            "Epoch 9/30\n",
            "7/7 [==============================] - 1s 78ms/step - loss: 1.9463 - accuracy: 0.1502\n",
            "Epoch 10/30\n",
            "7/7 [==============================] - 1s 76ms/step - loss: 1.9461 - accuracy: 0.1502\n",
            "Epoch 11/30\n",
            "7/7 [==============================] - 1s 77ms/step - loss: 1.9465 - accuracy: 0.1502\n",
            "Epoch 12/30\n",
            "7/7 [==============================] - 1s 77ms/step - loss: 1.9462 - accuracy: 0.1502\n",
            "Epoch 13/30\n",
            "7/7 [==============================] - 1s 76ms/step - loss: 1.9473 - accuracy: 0.1502\n",
            "Epoch 14/30\n",
            "7/7 [==============================] - 1s 77ms/step - loss: 1.9464 - accuracy: 0.1502\n",
            "Epoch 15/30\n",
            "7/7 [==============================] - 1s 75ms/step - loss: 1.9467 - accuracy: 0.1502\n",
            "Epoch 16/30\n",
            "7/7 [==============================] - 1s 77ms/step - loss: 1.9468 - accuracy: 0.1127\n",
            "Epoch 17/30\n",
            "7/7 [==============================] - 1s 76ms/step - loss: 1.9463 - accuracy: 0.1502\n",
            "Epoch 18/30\n",
            "7/7 [==============================] - 1s 82ms/step - loss: 1.9459 - accuracy: 0.1502\n",
            "Epoch 19/30\n",
            "7/7 [==============================] - 1s 77ms/step - loss: 1.9459 - accuracy: 0.1502\n",
            "Epoch 20/30\n",
            "7/7 [==============================] - 1s 76ms/step - loss: 1.9464 - accuracy: 0.1502\n",
            "Epoch 21/30\n",
            "7/7 [==============================] - 1s 77ms/step - loss: 1.9461 - accuracy: 0.1221\n",
            "Epoch 22/30\n",
            "7/7 [==============================] - 1s 81ms/step - loss: 1.9460 - accuracy: 0.1315\n",
            "Epoch 23/30\n",
            "7/7 [==============================] - 1s 78ms/step - loss: 1.9464 - accuracy: 0.1549\n",
            "Epoch 24/30\n",
            "7/7 [==============================] - 1s 77ms/step - loss: 1.9461 - accuracy: 0.1737\n",
            "Epoch 25/30\n",
            "7/7 [==============================] - 1s 78ms/step - loss: 1.9462 - accuracy: 0.1315\n",
            "Epoch 26/30\n",
            "7/7 [==============================] - 1s 77ms/step - loss: 1.9463 - accuracy: 0.1127\n",
            "Epoch 27/30\n",
            "7/7 [==============================] - 1s 76ms/step - loss: 1.9460 - accuracy: 0.1455\n",
            "Epoch 28/30\n",
            "7/7 [==============================] - 1s 77ms/step - loss: 1.9457 - accuracy: 0.1174\n",
            "Epoch 29/30\n",
            "7/7 [==============================] - 1s 77ms/step - loss: 1.9462 - accuracy: 0.1455\n",
            "Epoch 30/30\n",
            "7/7 [==============================] - 1s 77ms/step - loss: 1.9463 - accuracy: 0.1502\n"
          ],
          "name": "stdout"
        }
      ]
    },
    {
      "cell_type": "markdown",
      "metadata": {
        "id": "eJW9AEDNW7eZ"
      },
      "source": [
        "# Model Conv"
      ]
    },
    {
      "cell_type": "markdown",
      "metadata": {
        "id": "tfcZg7UMa7jj"
      },
      "source": [
        "### Basic Conv Model\n",
        "Some Clarification:\n",
        "\n",
        "1.   **Steps Per Epoch:** It is normally the number of unique samples in training set / batch size = 14400 / 128\n",
        "2.   **Validation Steps:** Same as above. Replace training with validation.\n",
        "\n"
      ]
    },
    {
      "cell_type": "code",
      "metadata": {
        "colab": {
          "base_uri": "https://localhost:8080/"
        },
        "id": "FiA47YAnRFT2",
        "outputId": "340766c5-24f5-4bc6-a030-97b1dc7a3570"
      },
      "source": [
        "IMAGE_SIZE"
      ],
      "execution_count": null,
      "outputs": [
        {
          "output_type": "execute_result",
          "data": {
            "text/plain": [
              "150"
            ]
          },
          "metadata": {
            "tags": []
          },
          "execution_count": 5
        }
      ]
    },
    {
      "cell_type": "code",
      "metadata": {
        "colab": {
          "base_uri": "https://localhost:8080/"
        },
        "id": "EjBQJ5Z1W71C",
        "outputId": "558a6f1a-37c4-435d-95c1-47b0465c44e5"
      },
      "source": [
        "model = tf.keras.models.Sequential([\n",
        "    # Note the input shape is the desired size of the image 150x150 with 3 bytes color\n",
        "    # This is the first convolution\n",
        "    tf.keras.layers.Conv2D(32, (3,3), activation='relu', input_shape=(IMAGE_SIZE, IMAGE_SIZE, 3)),\n",
        "    tf.keras.layers.MaxPooling2D(2, 2),\n",
        "    # The second convolution\n",
        "    #tf.keras.layers.Conv2D(64, (3,3), activation='relu'),\n",
        "    #tf.keras.layers.MaxPooling2D(2,2),\n",
        "    # The third convolution\n",
        "    tf.keras.layers.Conv2D(64, (3,3), activation='relu'),\n",
        "    tf.keras.layers.MaxPooling2D(2,2),\n",
        "    # The fourth convolution\n",
        "    tf.keras.layers.Conv2D(128, (3,3), activation='relu'),\n",
        "    tf.keras.layers.MaxPooling2D(2,2),\n",
        "    # Flatten the results to feed into a DNN\n",
        "    tf.keras.layers.Flatten(),\n",
        "    tf.keras.layers.Dropout(0.2),\n",
        "    # 512 neuron hidden layer\n",
        "    tf.keras.layers.Dense(512, activation='relu'),\n",
        "    tf.keras.layers.Dense(7, activation='softmax')\n",
        "])\n",
        "\n",
        "\n",
        "model.summary()\n",
        "\n"
      ],
      "execution_count": null,
      "outputs": [
        {
          "output_type": "stream",
          "text": [
            "Model: \"sequential\"\n",
            "_________________________________________________________________\n",
            "Layer (type)                 Output Shape              Param #   \n",
            "=================================================================\n",
            "conv2d (Conv2D)              (None, 148, 148, 32)      896       \n",
            "_________________________________________________________________\n",
            "max_pooling2d (MaxPooling2D) (None, 74, 74, 32)        0         \n",
            "_________________________________________________________________\n",
            "conv2d_1 (Conv2D)            (None, 72, 72, 64)        18496     \n",
            "_________________________________________________________________\n",
            "max_pooling2d_1 (MaxPooling2 (None, 36, 36, 64)        0         \n",
            "_________________________________________________________________\n",
            "conv2d_2 (Conv2D)            (None, 34, 34, 128)       73856     \n",
            "_________________________________________________________________\n",
            "max_pooling2d_2 (MaxPooling2 (None, 17, 17, 128)       0         \n",
            "_________________________________________________________________\n",
            "flatten (Flatten)            (None, 36992)             0         \n",
            "_________________________________________________________________\n",
            "dropout (Dropout)            (None, 36992)             0         \n",
            "_________________________________________________________________\n",
            "dense (Dense)                (None, 512)               18940416  \n",
            "_________________________________________________________________\n",
            "dense_1 (Dense)              (None, 7)                 3591      \n",
            "=================================================================\n",
            "Total params: 19,037,255\n",
            "Trainable params: 19,037,255\n",
            "Non-trainable params: 0\n",
            "_________________________________________________________________\n"
          ],
          "name": "stdout"
        }
      ]
    },
    {
      "cell_type": "code",
      "metadata": {
        "colab": {
          "base_uri": "https://localhost:8080/"
        },
        "id": "laotM-YkRaBm",
        "outputId": "6e7a2fe4-d1a5-4bc3-9a7e-243e3696f3c7"
      },
      "source": [
        "# Compile\n",
        "model.compile(loss=\"categorical_crossentropy\",\n",
        "            optimizer=tf.keras.optimizers.Adam(learning_rate=.0001), # use Adam with default settings\n",
        "              metrics=[tf.keras.metrics.Precision(), \n",
        "                        tf.keras.metrics.Recall(),\n",
        "                        'accuracy'])\n",
        "\n",
        "# Fit\n",
        "history = model.fit(train_generator,\n",
        "                    epochs=100, # fit for 5 epochs to keep experiments quick\n",
        "                                           validation_data=validation_generator,\n",
        "                                           validation_steps=int(len(validation_generator)), # evaluate on smaller portion of test data\n",
        "                                           ) # save best model weights to file"
      ],
      "execution_count": null,
      "outputs": [
        {
          "output_type": "stream",
          "text": [
            "Epoch 1/100\n",
            "6/6 [==============================] - 31s 303ms/step - loss: 1.9907 - precision: 0.0000e+00 - recall: 0.0000e+00 - accuracy: 0.0787 - val_loss: 1.9502 - val_precision: 0.0000e+00 - val_recall: 0.0000e+00 - val_accuracy: 0.1429\n",
            "Epoch 2/100\n",
            "6/6 [==============================] - 0s 78ms/step - loss: 1.9552 - precision: 0.0000e+00 - recall: 0.0000e+00 - accuracy: 0.2079 - val_loss: 1.9466 - val_precision: 0.0000e+00 - val_recall: 0.0000e+00 - val_accuracy: 0.2286\n",
            "Epoch 3/100\n",
            "6/6 [==============================] - 0s 77ms/step - loss: 1.9110 - precision: 0.0000e+00 - recall: 0.0000e+00 - accuracy: 0.2753 - val_loss: 1.9145 - val_precision: 0.0000e+00 - val_recall: 0.0000e+00 - val_accuracy: 0.2571\n",
            "Epoch 4/100\n",
            "6/6 [==============================] - 0s 77ms/step - loss: 1.8727 - precision: 0.0000e+00 - recall: 0.0000e+00 - accuracy: 0.4101 - val_loss: 1.8927 - val_precision: 0.0000e+00 - val_recall: 0.0000e+00 - val_accuracy: 0.3143\n",
            "Epoch 5/100\n",
            "6/6 [==============================] - 0s 75ms/step - loss: 1.8230 - precision: 0.0000e+00 - recall: 0.0000e+00 - accuracy: 0.4551 - val_loss: 1.8612 - val_precision: 0.0000e+00 - val_recall: 0.0000e+00 - val_accuracy: 0.4286\n",
            "Epoch 6/100\n",
            "6/6 [==============================] - 0s 75ms/step - loss: 1.7598 - precision: 0.0000e+00 - recall: 0.0000e+00 - accuracy: 0.4551 - val_loss: 1.8218 - val_precision: 0.0000e+00 - val_recall: 0.0000e+00 - val_accuracy: 0.3143\n",
            "Epoch 7/100\n",
            "6/6 [==============================] - 0s 79ms/step - loss: 1.7153 - precision: 0.0000e+00 - recall: 0.0000e+00 - accuracy: 0.3820 - val_loss: 1.7782 - val_precision: 0.0000e+00 - val_recall: 0.0000e+00 - val_accuracy: 0.3714\n",
            "Epoch 8/100\n",
            "6/6 [==============================] - 0s 74ms/step - loss: 1.6310 - precision: 1.0000 - recall: 0.0169 - accuracy: 0.4551 - val_loss: 1.7513 - val_precision: 0.0000e+00 - val_recall: 0.0000e+00 - val_accuracy: 0.2857\n",
            "Epoch 9/100\n",
            "6/6 [==============================] - 0s 82ms/step - loss: 1.5346 - precision: 1.0000 - recall: 0.0281 - accuracy: 0.5056 - val_loss: 1.7006 - val_precision: 0.0000e+00 - val_recall: 0.0000e+00 - val_accuracy: 0.3143\n",
            "Epoch 10/100\n",
            "6/6 [==============================] - 0s 81ms/step - loss: 1.4309 - precision: 1.0000 - recall: 0.1011 - accuracy: 0.5281 - val_loss: 1.5906 - val_precision: 0.0000e+00 - val_recall: 0.0000e+00 - val_accuracy: 0.4571\n",
            "Epoch 11/100\n",
            "6/6 [==============================] - 0s 76ms/step - loss: 1.3188 - precision: 1.0000 - recall: 0.1236 - accuracy: 0.5787 - val_loss: 1.5242 - val_precision: 1.0000 - val_recall: 0.0571 - val_accuracy: 0.4286\n",
            "Epoch 12/100\n",
            "6/6 [==============================] - 0s 74ms/step - loss: 1.2598 - precision: 1.0000 - recall: 0.1629 - accuracy: 0.6067 - val_loss: 1.3874 - val_precision: 1.0000 - val_recall: 0.0857 - val_accuracy: 0.5714\n",
            "Epoch 13/100\n",
            "6/6 [==============================] - 0s 75ms/step - loss: 1.1226 - precision: 0.9756 - recall: 0.2247 - accuracy: 0.6517 - val_loss: 1.3082 - val_precision: 1.0000 - val_recall: 0.1714 - val_accuracy: 0.6286\n",
            "Epoch 14/100\n",
            "6/6 [==============================] - 0s 77ms/step - loss: 0.9896 - precision: 1.0000 - recall: 0.3315 - accuracy: 0.7640 - val_loss: 1.2018 - val_precision: 1.0000 - val_recall: 0.2571 - val_accuracy: 0.6286\n",
            "Epoch 15/100\n",
            "6/6 [==============================] - 0s 76ms/step - loss: 0.9467 - precision: 1.0000 - recall: 0.3876 - accuracy: 0.7472 - val_loss: 1.1106 - val_precision: 0.9091 - val_recall: 0.2857 - val_accuracy: 0.6000\n",
            "Epoch 16/100\n",
            "6/6 [==============================] - 0s 76ms/step - loss: 0.8577 - precision: 0.9111 - recall: 0.4607 - accuracy: 0.7303 - val_loss: 1.0343 - val_precision: 1.0000 - val_recall: 0.4000 - val_accuracy: 0.6000\n",
            "Epoch 17/100\n",
            "6/6 [==============================] - 0s 77ms/step - loss: 0.7499 - precision: 0.9897 - recall: 0.5393 - accuracy: 0.8427 - val_loss: 0.9908 - val_precision: 0.8750 - val_recall: 0.4000 - val_accuracy: 0.6571\n",
            "Epoch 18/100\n",
            "6/6 [==============================] - 0s 78ms/step - loss: 0.6652 - precision: 0.9688 - recall: 0.5225 - accuracy: 0.8652 - val_loss: 0.8551 - val_precision: 0.9000 - val_recall: 0.5143 - val_accuracy: 0.7143\n",
            "Epoch 19/100\n",
            "6/6 [==============================] - 0s 80ms/step - loss: 0.5601 - precision: 0.9919 - recall: 0.6910 - accuracy: 0.8820 - val_loss: 0.8350 - val_precision: 0.8696 - val_recall: 0.5714 - val_accuracy: 0.7429\n",
            "Epoch 20/100\n",
            "6/6 [==============================] - 0s 75ms/step - loss: 0.5158 - precision: 0.9697 - recall: 0.7191 - accuracy: 0.8876 - val_loss: 0.7252 - val_precision: 1.0000 - val_recall: 0.5714 - val_accuracy: 0.8000\n",
            "Epoch 21/100\n",
            "6/6 [==============================] - 1s 84ms/step - loss: 0.4458 - precision: 1.0000 - recall: 0.7753 - accuracy: 0.9270 - val_loss: 0.7501 - val_precision: 0.8889 - val_recall: 0.4571 - val_accuracy: 0.8286\n",
            "Epoch 22/100\n",
            "6/6 [==============================] - 0s 76ms/step - loss: 0.3771 - precision: 0.9932 - recall: 0.8202 - accuracy: 0.9719 - val_loss: 0.5972 - val_precision: 0.9259 - val_recall: 0.7143 - val_accuracy: 0.8286\n",
            "Epoch 23/100\n",
            "6/6 [==============================] - 0s 75ms/step - loss: 0.3412 - precision: 0.9932 - recall: 0.8258 - accuracy: 0.9607 - val_loss: 0.5927 - val_precision: 0.9259 - val_recall: 0.7143 - val_accuracy: 0.8571\n",
            "Epoch 24/100\n",
            "6/6 [==============================] - 0s 80ms/step - loss: 0.3172 - precision: 0.9870 - recall: 0.8539 - accuracy: 0.9551 - val_loss: 0.5299 - val_precision: 0.9615 - val_recall: 0.7143 - val_accuracy: 0.9714\n",
            "Epoch 25/100\n",
            "6/6 [==============================] - 0s 76ms/step - loss: 0.2958 - precision: 0.9811 - recall: 0.8764 - accuracy: 0.9551 - val_loss: 0.5427 - val_precision: 0.8333 - val_recall: 0.7143 - val_accuracy: 0.7714\n",
            "Epoch 26/100\n",
            "6/6 [==============================] - 0s 78ms/step - loss: 0.2633 - precision: 0.9753 - recall: 0.8876 - accuracy: 0.9382 - val_loss: 0.6060 - val_precision: 0.9310 - val_recall: 0.7714 - val_accuracy: 0.8286\n",
            "Epoch 27/100\n",
            "6/6 [==============================] - 0s 77ms/step - loss: 0.2507 - precision: 0.9820 - recall: 0.9213 - accuracy: 0.9551 - val_loss: 0.4601 - val_precision: 0.9032 - val_recall: 0.8000 - val_accuracy: 0.8571\n",
            "Epoch 28/100\n",
            "6/6 [==============================] - 0s 77ms/step - loss: 0.2313 - precision: 0.9759 - recall: 0.9101 - accuracy: 0.9607 - val_loss: 0.4081 - val_precision: 0.9355 - val_recall: 0.8286 - val_accuracy: 0.8857\n",
            "Epoch 29/100\n",
            "6/6 [==============================] - 0s 77ms/step - loss: 0.2043 - precision: 0.9880 - recall: 0.9213 - accuracy: 0.9719 - val_loss: 0.4456 - val_precision: 0.9355 - val_recall: 0.8286 - val_accuracy: 0.9143\n",
            "Epoch 30/100\n",
            "6/6 [==============================] - 0s 78ms/step - loss: 0.1674 - precision: 0.9884 - recall: 0.9607 - accuracy: 0.9888 - val_loss: 0.4382 - val_precision: 0.9333 - val_recall: 0.8000 - val_accuracy: 0.8857\n",
            "Epoch 31/100\n",
            "6/6 [==============================] - 0s 76ms/step - loss: 0.1666 - precision: 0.9941 - recall: 0.9438 - accuracy: 0.9831 - val_loss: 0.4071 - val_precision: 0.9355 - val_recall: 0.8286 - val_accuracy: 0.8571\n",
            "Epoch 32/100\n",
            "6/6 [==============================] - 0s 78ms/step - loss: 0.1508 - precision: 0.9827 - recall: 0.9551 - accuracy: 0.9775 - val_loss: 0.4482 - val_precision: 0.8788 - val_recall: 0.8286 - val_accuracy: 0.8286\n",
            "Epoch 33/100\n",
            "6/6 [==============================] - 0s 79ms/step - loss: 0.1590 - precision: 0.9766 - recall: 0.9382 - accuracy: 0.9607 - val_loss: 0.4034 - val_precision: 0.8788 - val_recall: 0.8286 - val_accuracy: 0.8286\n",
            "Epoch 34/100\n",
            "6/6 [==============================] - 0s 76ms/step - loss: 0.1116 - precision: 1.0000 - recall: 0.9775 - accuracy: 0.9775 - val_loss: 0.3775 - val_precision: 0.9091 - val_recall: 0.8571 - val_accuracy: 0.8857\n",
            "Epoch 35/100\n",
            "6/6 [==============================] - 0s 79ms/step - loss: 0.0879 - precision: 0.9943 - recall: 0.9719 - accuracy: 0.9888 - val_loss: 0.3023 - val_precision: 0.9697 - val_recall: 0.9143 - val_accuracy: 0.9429\n",
            "Epoch 36/100\n",
            "6/6 [==============================] - 0s 79ms/step - loss: 0.0854 - precision: 1.0000 - recall: 0.9831 - accuracy: 0.9888 - val_loss: 0.2906 - val_precision: 0.9375 - val_recall: 0.8571 - val_accuracy: 0.9429\n",
            "Epoch 37/100\n",
            "6/6 [==============================] - 0s 82ms/step - loss: 0.0804 - precision: 0.9943 - recall: 0.9831 - accuracy: 0.9944 - val_loss: 0.3241 - val_precision: 0.9706 - val_recall: 0.9429 - val_accuracy: 0.9714\n",
            "Epoch 38/100\n",
            "6/6 [==============================] - 0s 78ms/step - loss: 0.0645 - precision: 0.9944 - recall: 0.9888 - accuracy: 0.9944 - val_loss: 0.2550 - val_precision: 0.9706 - val_recall: 0.9429 - val_accuracy: 0.9429\n",
            "Epoch 39/100\n",
            "6/6 [==============================] - 0s 76ms/step - loss: 0.0644 - precision: 1.0000 - recall: 0.9944 - accuracy: 1.0000 - val_loss: 0.2629 - val_precision: 0.9706 - val_recall: 0.9429 - val_accuracy: 0.9714\n",
            "Epoch 40/100\n",
            "6/6 [==============================] - 0s 84ms/step - loss: 0.0554 - precision: 1.0000 - recall: 0.9888 - accuracy: 1.0000 - val_loss: 0.2850 - val_precision: 0.9697 - val_recall: 0.9143 - val_accuracy: 0.9714\n",
            "Epoch 41/100\n",
            "6/6 [==============================] - 0s 77ms/step - loss: 0.0506 - precision: 1.0000 - recall: 1.0000 - accuracy: 1.0000 - val_loss: 0.2924 - val_precision: 0.9412 - val_recall: 0.9143 - val_accuracy: 0.9143\n",
            "Epoch 42/100\n",
            "6/6 [==============================] - 0s 76ms/step - loss: 0.0473 - precision: 0.9944 - recall: 0.9944 - accuracy: 0.9944 - val_loss: 0.2401 - val_precision: 0.9706 - val_recall: 0.9429 - val_accuracy: 0.9714\n",
            "Epoch 43/100\n",
            "6/6 [==============================] - 0s 79ms/step - loss: 0.0499 - precision: 0.9944 - recall: 0.9888 - accuracy: 0.9888 - val_loss: 0.2902 - val_precision: 0.9429 - val_recall: 0.9429 - val_accuracy: 0.9429\n",
            "Epoch 44/100\n",
            "6/6 [==============================] - 0s 77ms/step - loss: 0.0419 - precision: 1.0000 - recall: 1.0000 - accuracy: 1.0000 - val_loss: 0.2694 - val_precision: 0.9706 - val_recall: 0.9429 - val_accuracy: 0.9714\n",
            "Epoch 45/100\n",
            "6/6 [==============================] - 0s 81ms/step - loss: 0.0395 - precision: 1.0000 - recall: 0.9944 - accuracy: 1.0000 - val_loss: 0.2865 - val_precision: 0.9412 - val_recall: 0.9143 - val_accuracy: 0.9429\n",
            "Epoch 46/100\n",
            "6/6 [==============================] - 0s 75ms/step - loss: 0.0339 - precision: 1.0000 - recall: 1.0000 - accuracy: 1.0000 - val_loss: 0.2871 - val_precision: 0.9429 - val_recall: 0.9429 - val_accuracy: 0.9429\n",
            "Epoch 47/100\n",
            "6/6 [==============================] - 0s 76ms/step - loss: 0.0375 - precision: 0.9944 - recall: 0.9888 - accuracy: 0.9944 - val_loss: 0.2647 - val_precision: 0.9714 - val_recall: 0.9714 - val_accuracy: 0.9714\n",
            "Epoch 48/100\n",
            "6/6 [==============================] - 0s 85ms/step - loss: 0.0372 - precision: 0.9944 - recall: 0.9888 - accuracy: 0.9888 - val_loss: 0.2254 - val_precision: 0.9697 - val_recall: 0.9143 - val_accuracy: 0.9429\n",
            "Epoch 49/100\n",
            "6/6 [==============================] - 0s 77ms/step - loss: 0.0379 - precision: 0.9944 - recall: 0.9944 - accuracy: 0.9944 - val_loss: 0.2527 - val_precision: 0.9714 - val_recall: 0.9714 - val_accuracy: 0.9714\n",
            "Epoch 50/100\n",
            "6/6 [==============================] - 0s 76ms/step - loss: 0.0353 - precision: 0.9944 - recall: 0.9944 - accuracy: 0.9944 - val_loss: 0.2691 - val_precision: 0.9714 - val_recall: 0.9714 - val_accuracy: 0.9714\n",
            "Epoch 51/100\n",
            "6/6 [==============================] - 0s 78ms/step - loss: 0.0289 - precision: 0.9944 - recall: 0.9944 - accuracy: 0.9944 - val_loss: 0.2716 - val_precision: 0.9697 - val_recall: 0.9143 - val_accuracy: 0.9429\n",
            "Epoch 52/100\n",
            "6/6 [==============================] - 0s 83ms/step - loss: 0.0244 - precision: 1.0000 - recall: 1.0000 - accuracy: 1.0000 - val_loss: 0.2373 - val_precision: 0.9706 - val_recall: 0.9429 - val_accuracy: 0.9429\n",
            "Epoch 53/100\n",
            "6/6 [==============================] - 0s 76ms/step - loss: 0.0249 - precision: 1.0000 - recall: 0.9944 - accuracy: 0.9944 - val_loss: 0.2462 - val_precision: 0.9714 - val_recall: 0.9714 - val_accuracy: 0.9714\n",
            "Epoch 54/100\n",
            "6/6 [==============================] - 0s 82ms/step - loss: 0.0204 - precision: 1.0000 - recall: 1.0000 - accuracy: 1.0000 - val_loss: 0.2606 - val_precision: 0.9714 - val_recall: 0.9714 - val_accuracy: 0.9714\n",
            "Epoch 55/100\n",
            "6/6 [==============================] - 0s 75ms/step - loss: 0.0199 - precision: 1.0000 - recall: 1.0000 - accuracy: 1.0000 - val_loss: 0.2371 - val_precision: 0.9706 - val_recall: 0.9429 - val_accuracy: 0.9714\n",
            "Epoch 56/100\n",
            "6/6 [==============================] - 0s 77ms/step - loss: 0.0200 - precision: 1.0000 - recall: 1.0000 - accuracy: 1.0000 - val_loss: 0.2306 - val_precision: 0.9714 - val_recall: 0.9714 - val_accuracy: 0.9714\n",
            "Epoch 57/100\n",
            "6/6 [==============================] - 0s 80ms/step - loss: 0.0185 - precision: 1.0000 - recall: 1.0000 - accuracy: 1.0000 - val_loss: 0.2489 - val_precision: 0.9429 - val_recall: 0.9429 - val_accuracy: 0.9429\n",
            "Epoch 58/100\n",
            "6/6 [==============================] - 0s 78ms/step - loss: 0.0178 - precision: 1.0000 - recall: 1.0000 - accuracy: 1.0000 - val_loss: 0.2886 - val_precision: 0.9714 - val_recall: 0.9714 - val_accuracy: 0.9714\n",
            "Epoch 59/100\n",
            "6/6 [==============================] - 0s 80ms/step - loss: 0.0173 - precision: 1.0000 - recall: 1.0000 - accuracy: 1.0000 - val_loss: 0.2529 - val_precision: 0.9714 - val_recall: 0.9714 - val_accuracy: 0.9714\n",
            "Epoch 60/100\n",
            "6/6 [==============================] - 0s 77ms/step - loss: 0.0169 - precision: 1.0000 - recall: 1.0000 - accuracy: 1.0000 - val_loss: 0.2778 - val_precision: 0.9429 - val_recall: 0.9429 - val_accuracy: 0.9429\n",
            "Epoch 61/100\n",
            "6/6 [==============================] - 0s 79ms/step - loss: 0.0195 - precision: 1.0000 - recall: 0.9944 - accuracy: 1.0000 - val_loss: 0.2634 - val_precision: 0.9714 - val_recall: 0.9714 - val_accuracy: 0.9714\n",
            "Epoch 62/100\n",
            "6/6 [==============================] - 0s 78ms/step - loss: 0.0189 - precision: 1.0000 - recall: 1.0000 - accuracy: 1.0000 - val_loss: 0.2509 - val_precision: 0.9429 - val_recall: 0.9429 - val_accuracy: 0.9429\n",
            "Epoch 63/100\n",
            "6/6 [==============================] - 0s 79ms/step - loss: 0.0173 - precision: 0.9944 - recall: 0.9944 - accuracy: 0.9944 - val_loss: 0.2361 - val_precision: 0.9429 - val_recall: 0.9429 - val_accuracy: 0.9429\n",
            "Epoch 64/100\n",
            "6/6 [==============================] - 0s 77ms/step - loss: 0.0192 - precision: 1.0000 - recall: 1.0000 - accuracy: 1.0000 - val_loss: 0.1944 - val_precision: 0.9714 - val_recall: 0.9714 - val_accuracy: 0.9714\n",
            "Epoch 65/100\n",
            "6/6 [==============================] - 0s 79ms/step - loss: 0.0303 - precision: 0.9944 - recall: 0.9944 - accuracy: 0.9944 - val_loss: 0.3421 - val_precision: 0.9429 - val_recall: 0.9429 - val_accuracy: 0.9429\n",
            "Epoch 66/100\n",
            "6/6 [==============================] - 0s 75ms/step - loss: 0.0236 - precision: 1.0000 - recall: 1.0000 - accuracy: 1.0000 - val_loss: 0.2628 - val_precision: 0.9706 - val_recall: 0.9429 - val_accuracy: 0.9714\n",
            "Epoch 67/100\n",
            "6/6 [==============================] - 0s 77ms/step - loss: 0.0306 - precision: 0.9944 - recall: 0.9944 - accuracy: 0.9944 - val_loss: 0.4207 - val_precision: 0.9091 - val_recall: 0.8571 - val_accuracy: 0.8571\n",
            "Epoch 68/100\n",
            "6/6 [==============================] - 0s 84ms/step - loss: 0.0263 - precision: 0.9944 - recall: 0.9944 - accuracy: 0.9944 - val_loss: 0.2935 - val_precision: 0.9412 - val_recall: 0.9143 - val_accuracy: 0.9429\n",
            "Epoch 69/100\n",
            "6/6 [==============================] - 0s 78ms/step - loss: 0.0223 - precision: 1.0000 - recall: 1.0000 - accuracy: 1.0000 - val_loss: 0.2438 - val_precision: 0.9429 - val_recall: 0.9429 - val_accuracy: 0.9429\n",
            "Epoch 70/100\n",
            "6/6 [==============================] - 0s 78ms/step - loss: 0.0164 - precision: 1.0000 - recall: 1.0000 - accuracy: 1.0000 - val_loss: 0.3346 - val_precision: 0.9429 - val_recall: 0.9429 - val_accuracy: 0.9429\n",
            "Epoch 71/100\n",
            "6/6 [==============================] - 0s 79ms/step - loss: 0.0148 - precision: 1.0000 - recall: 1.0000 - accuracy: 1.0000 - val_loss: 0.3000 - val_precision: 0.9706 - val_recall: 0.9429 - val_accuracy: 0.9429\n",
            "Epoch 72/100\n",
            "6/6 [==============================] - 0s 80ms/step - loss: 0.0101 - precision: 1.0000 - recall: 1.0000 - accuracy: 1.0000 - val_loss: 0.2473 - val_precision: 0.9429 - val_recall: 0.9429 - val_accuracy: 0.9429\n",
            "Epoch 73/100\n",
            "6/6 [==============================] - 0s 79ms/step - loss: 0.0109 - precision: 1.0000 - recall: 1.0000 - accuracy: 1.0000 - val_loss: 0.2796 - val_precision: 0.9429 - val_recall: 0.9429 - val_accuracy: 0.9429\n",
            "Epoch 74/100\n",
            "6/6 [==============================] - 0s 80ms/step - loss: 0.0103 - precision: 1.0000 - recall: 1.0000 - accuracy: 1.0000 - val_loss: 0.2557 - val_precision: 0.9714 - val_recall: 0.9714 - val_accuracy: 0.9714\n",
            "Epoch 75/100\n",
            "6/6 [==============================] - 0s 77ms/step - loss: 0.0129 - precision: 0.9944 - recall: 0.9944 - accuracy: 0.9944 - val_loss: 0.2939 - val_precision: 0.9706 - val_recall: 0.9429 - val_accuracy: 0.9714\n",
            "Epoch 76/100\n",
            "6/6 [==============================] - 0s 78ms/step - loss: 0.0116 - precision: 0.9944 - recall: 0.9944 - accuracy: 0.9944 - val_loss: 0.2705 - val_precision: 0.9714 - val_recall: 0.9714 - val_accuracy: 0.9714\n",
            "Epoch 77/100\n",
            "6/6 [==============================] - 0s 78ms/step - loss: 0.0122 - precision: 1.0000 - recall: 0.9944 - accuracy: 0.9944 - val_loss: 0.2429 - val_precision: 0.9429 - val_recall: 0.9429 - val_accuracy: 0.9429\n",
            "Epoch 78/100\n",
            "6/6 [==============================] - 0s 78ms/step - loss: 0.0080 - precision: 1.0000 - recall: 1.0000 - accuracy: 1.0000 - val_loss: 0.2535 - val_precision: 0.9714 - val_recall: 0.9714 - val_accuracy: 0.9714\n",
            "Epoch 79/100\n",
            "6/6 [==============================] - 0s 79ms/step - loss: 0.0075 - precision: 1.0000 - recall: 1.0000 - accuracy: 1.0000 - val_loss: 0.2440 - val_precision: 0.9706 - val_recall: 0.9429 - val_accuracy: 0.9714\n",
            "Epoch 80/100\n",
            "6/6 [==============================] - 0s 78ms/step - loss: 0.0077 - precision: 1.0000 - recall: 1.0000 - accuracy: 1.0000 - val_loss: 0.3210 - val_precision: 0.9412 - val_recall: 0.9143 - val_accuracy: 0.9429\n",
            "Epoch 81/100\n",
            "6/6 [==============================] - 0s 77ms/step - loss: 0.0073 - precision: 1.0000 - recall: 1.0000 - accuracy: 1.0000 - val_loss: 0.2615 - val_precision: 0.9714 - val_recall: 0.9714 - val_accuracy: 0.9714\n",
            "Epoch 82/100\n",
            "6/6 [==============================] - 0s 76ms/step - loss: 0.0073 - precision: 1.0000 - recall: 1.0000 - accuracy: 1.0000 - val_loss: 0.2449 - val_precision: 0.9412 - val_recall: 0.9143 - val_accuracy: 0.9429\n",
            "Epoch 83/100\n",
            "6/6 [==============================] - 1s 80ms/step - loss: 0.0062 - precision: 1.0000 - recall: 1.0000 - accuracy: 1.0000 - val_loss: 0.2550 - val_precision: 0.9429 - val_recall: 0.9429 - val_accuracy: 0.9429\n",
            "Epoch 84/100\n",
            "6/6 [==============================] - 0s 79ms/step - loss: 0.0061 - precision: 1.0000 - recall: 1.0000 - accuracy: 1.0000 - val_loss: 0.2661 - val_precision: 0.9706 - val_recall: 0.9429 - val_accuracy: 0.9714\n",
            "Epoch 85/100\n",
            "6/6 [==============================] - 0s 79ms/step - loss: 0.0077 - precision: 1.0000 - recall: 1.0000 - accuracy: 1.0000 - val_loss: 0.2442 - val_precision: 0.9706 - val_recall: 0.9429 - val_accuracy: 0.9429\n",
            "Epoch 86/100\n",
            "6/6 [==============================] - 0s 80ms/step - loss: 0.0052 - precision: 1.0000 - recall: 1.0000 - accuracy: 1.0000 - val_loss: 0.2967 - val_precision: 0.9143 - val_recall: 0.9143 - val_accuracy: 0.9143\n",
            "Epoch 87/100\n",
            "6/6 [==============================] - 0s 78ms/step - loss: 0.0057 - precision: 1.0000 - recall: 1.0000 - accuracy: 1.0000 - val_loss: 0.2603 - val_precision: 0.9714 - val_recall: 0.9714 - val_accuracy: 0.9714\n",
            "Epoch 88/100\n",
            "6/6 [==============================] - 0s 78ms/step - loss: 0.0054 - precision: 1.0000 - recall: 1.0000 - accuracy: 1.0000 - val_loss: 0.2610 - val_precision: 0.9714 - val_recall: 0.9714 - val_accuracy: 0.9714\n",
            "Epoch 89/100\n",
            "6/6 [==============================] - 1s 80ms/step - loss: 0.0057 - precision: 1.0000 - recall: 1.0000 - accuracy: 1.0000 - val_loss: 0.2763 - val_precision: 0.9429 - val_recall: 0.9429 - val_accuracy: 0.9429\n",
            "Epoch 90/100\n",
            "6/6 [==============================] - 0s 82ms/step - loss: 0.0053 - precision: 1.0000 - recall: 1.0000 - accuracy: 1.0000 - val_loss: 0.2468 - val_precision: 0.9429 - val_recall: 0.9429 - val_accuracy: 0.9429\n",
            "Epoch 91/100\n",
            "6/6 [==============================] - 0s 82ms/step - loss: 0.0042 - precision: 1.0000 - recall: 1.0000 - accuracy: 1.0000 - val_loss: 0.2527 - val_precision: 0.9429 - val_recall: 0.9429 - val_accuracy: 0.9429\n",
            "Epoch 92/100\n",
            "6/6 [==============================] - 0s 75ms/step - loss: 0.0040 - precision: 1.0000 - recall: 1.0000 - accuracy: 1.0000 - val_loss: 0.2766 - val_precision: 0.9429 - val_recall: 0.9429 - val_accuracy: 0.9429\n",
            "Epoch 93/100\n",
            "6/6 [==============================] - 0s 86ms/step - loss: 0.0055 - precision: 1.0000 - recall: 1.0000 - accuracy: 1.0000 - val_loss: 0.2712 - val_precision: 0.9714 - val_recall: 0.9714 - val_accuracy: 0.9714\n",
            "Epoch 94/100\n",
            "6/6 [==============================] - 0s 77ms/step - loss: 0.0045 - precision: 1.0000 - recall: 1.0000 - accuracy: 1.0000 - val_loss: 0.2438 - val_precision: 0.9706 - val_recall: 0.9429 - val_accuracy: 0.9714\n",
            "Epoch 95/100\n",
            "6/6 [==============================] - 0s 77ms/step - loss: 0.0052 - precision: 1.0000 - recall: 1.0000 - accuracy: 1.0000 - val_loss: 0.2491 - val_precision: 0.9429 - val_recall: 0.9429 - val_accuracy: 0.9429\n",
            "Epoch 96/100\n",
            "6/6 [==============================] - 0s 78ms/step - loss: 0.0043 - precision: 1.0000 - recall: 1.0000 - accuracy: 1.0000 - val_loss: 0.2793 - val_precision: 0.9429 - val_recall: 0.9429 - val_accuracy: 0.9429\n",
            "Epoch 97/100\n",
            "6/6 [==============================] - 0s 85ms/step - loss: 0.0051 - precision: 1.0000 - recall: 1.0000 - accuracy: 1.0000 - val_loss: 0.2930 - val_precision: 0.9714 - val_recall: 0.9714 - val_accuracy: 0.9714\n",
            "Epoch 98/100\n",
            "6/6 [==============================] - 0s 76ms/step - loss: 0.0048 - precision: 1.0000 - recall: 1.0000 - accuracy: 1.0000 - val_loss: 0.2998 - val_precision: 0.9412 - val_recall: 0.9143 - val_accuracy: 0.9143\n",
            "Epoch 99/100\n",
            "6/6 [==============================] - 0s 79ms/step - loss: 0.0046 - precision: 1.0000 - recall: 1.0000 - accuracy: 1.0000 - val_loss: 0.2820 - val_precision: 0.9143 - val_recall: 0.9143 - val_accuracy: 0.9143\n",
            "Epoch 100/100\n",
            "6/6 [==============================] - 1s 81ms/step - loss: 0.0036 - precision: 1.0000 - recall: 1.0000 - accuracy: 1.0000 - val_loss: 0.2439 - val_precision: 0.9714 - val_recall: 0.9714 - val_accuracy: 0.9714\n"
          ],
          "name": "stdout"
        }
      ]
    },
    {
      "cell_type": "markdown",
      "metadata": {
        "id": "3LQn-6ShWJxF"
      },
      "source": [
        ""
      ]
    },
    {
      "cell_type": "markdown",
      "metadata": {
        "id": "6bZJ_4atWJsn"
      },
      "source": [
        ""
      ]
    },
    {
      "cell_type": "code",
      "metadata": {
        "colab": {
          "base_uri": "https://localhost:8080/"
        },
        "id": "GaILMejOnYPw",
        "outputId": "9ae92869-75bf-4898-c925-650134034c97"
      },
      "source": [
        "14400 / 128, 3600 / 128"
      ],
      "execution_count": null,
      "outputs": [
        {
          "output_type": "execute_result",
          "data": {
            "text/plain": [
              "(112.5, 28.125)"
            ]
          },
          "metadata": {
            "tags": []
          },
          "execution_count": 16
        }
      ]
    },
    {
      "cell_type": "code",
      "metadata": {
        "id": "bhdr-lOlTzP0"
      },
      "source": [
        "tf.keras.utils.plot_model(\n",
        "    model,\n",
        "    to_file=\"model.png\",\n",
        "    show_shapes=True,\n",
        "    show_dtype=False,\n",
        "    show_layer_names=False,\n",
        "    rankdir=\"TB\",\n",
        "    expand_nested=False,\n",
        "    dpi=50,\n",
        ")"
      ],
      "execution_count": null,
      "outputs": []
    },
    {
      "cell_type": "markdown",
      "metadata": {
        "id": "GPhlzkhjqK4q"
      },
      "source": [
        "**Model Performace Evaluation**"
      ]
    },
    {
      "cell_type": "code",
      "metadata": {
        "id": "b3LkbjzYN0UD",
        "colab": {
          "base_uri": "https://localhost:8080/"
        },
        "outputId": "75689143-cd47-41cb-e1f8-bf8cbd0198be"
      },
      "source": [
        "history.history.keys()"
      ],
      "execution_count": null,
      "outputs": [
        {
          "output_type": "execute_result",
          "data": {
            "text/plain": [
              "dict_keys(['loss', 'precision', 'recall', 'accuracy', 'val_loss', 'val_precision', 'val_recall', 'val_accuracy'])"
            ]
          },
          "metadata": {
            "tags": []
          },
          "execution_count": 9
        }
      ]
    },
    {
      "cell_type": "code",
      "metadata": {
        "colab": {
          "base_uri": "https://localhost:8080/",
          "height": 279
        },
        "id": "g9YnbK2mqOJU",
        "outputId": "2ab0a053-00ae-4389-db04-149b9ccffa9b"
      },
      "source": [
        "import matplotlib.pyplot as plt\n",
        "acc = history.history['accuracy']\n",
        "val_acc = history.history['val_accuracy']\n",
        "loss = history.history['loss']\n",
        "val_loss = history.history['val_loss']\n",
        "precision = history.history['precision']\n",
        "val_precision = history.history['val_precision']\n",
        "\n",
        "recall = history.history['recall']\n",
        "val_recall = history.history['val_recall']\n",
        "\n",
        "epochs = range(len(acc))\n",
        "\n",
        "plt.plot(epochs, acc, 'r', label='Training Accuracy')\n",
        "plt.plot(epochs, val_acc, 'b', label='Validation Accuracy')\n",
        "#plt.title('Training and validation accuracy')\n",
        "plt.ylabel(\"Accuracy\")\n",
        "plt.xlabel(\"Epoch\")\n",
        "plt.legend(loc=0)\n",
        "\n",
        "\n",
        "plt.savefig(\"accuracy.png\", dpi = 200)"
      ],
      "execution_count": null,
      "outputs": [
        {
          "output_type": "display_data",
          "data": {
            "image/png": "[encoded data removed]",
            "text/plain": [
              "<Figure size 432x288 with 1 Axes>"
            ]
          },
          "metadata": {
            "tags": [],
            "needs_background": "light"
          }
        }
      ]
    },
    {
      "cell_type": "code",
      "metadata": {
        "colab": {
          "base_uri": "https://localhost:8080/",
          "height": 279
        },
        "id": "YhYn9fL55xGt",
        "outputId": "3e2df283-561d-4b11-c27b-129cfcc4794c"
      },
      "source": [
        "plt.plot(epochs, loss, 'r', label='Training Loss')\n",
        "plt.plot(epochs, val_loss, 'b', label='Validation Loss')\n",
        "#plt.title('Training and validation accuracy')\n",
        "plt.ylabel(\"Loss\")\n",
        "plt.xlabel(\"Epoch\")\n",
        "plt.legend(loc=0)\n",
        "plt.savefig(\"loss.png\", dpi = 200)"
      ],
      "execution_count": null,
      "outputs": [
        {
          "output_type": "display_data",
          "data": {
            "image/png": "[encoded data removed]",
            "text/plain": [
              "<Figure size 432x288 with 1 Axes>"
            ]
          },
          "metadata": {
            "tags": [],
            "needs_background": "light"
          }
        }
      ]
    },
    {
      "cell_type": "code",
      "metadata": {
        "colab": {
          "base_uri": "https://localhost:8080/",
          "height": 279
        },
        "id": "juvP07O_M4_r",
        "outputId": "fc44f983-6010-427a-e608-9f6ebecbf0df"
      },
      "source": [
        "plt.plot(epochs, precision, 'r', label='Training Precision')\n",
        "plt.plot(epochs, val_precision, 'b', label='Validation Precision')\n",
        "#plt.title('Training and validation accuracy')\n",
        "plt.ylabel(\"Precision\")\n",
        "plt.xlabel(\"Epoch\")\n",
        "plt.legend(loc=0)\n",
        "plt.savefig(\"precision.png\", dpi = 200)"
      ],
      "execution_count": null,
      "outputs": [
        {
          "output_type": "display_data",
          "data": {
            "image/png": "[encoded data removed]",
            "text/plain": [
              "<Figure size 432x288 with 1 Axes>"
            ]
          },
          "metadata": {
            "tags": [],
            "needs_background": "light"
          }
        }
      ]
    },
    {
      "cell_type": "code",
      "metadata": {
        "id": "IsQn5nmVNjqJ",
        "colab": {
          "base_uri": "https://localhost:8080/",
          "height": 279
        },
        "outputId": "a12e784a-8d13-4e92-f46e-12320eb9aabe"
      },
      "source": [
        "plt.plot(epochs, recall, 'r', label='Training Recall')\n",
        "plt.plot(epochs, val_recall, 'b', label='Validation Recall')\n",
        "#plt.title('Training and validation accuracy')\n",
        "plt.ylabel(\"Recall\")\n",
        "plt.xlabel(\"Epoch\")\n",
        "plt.legend(loc=0)\n",
        "plt.savefig(\"recall.png\", dpi = 200)"
      ],
      "execution_count": null,
      "outputs": [
        {
          "output_type": "display_data",
          "data": {
            "image/png": "[encoded data removed]",
            "text/plain": [
              "<Figure size 432x288 with 1 Axes>"
            ]
          },
          "metadata": {
            "tags": [],
            "needs_background": "light"
          }
        }
      ]
    },
    {
      "cell_type": "code",
      "metadata": {
        "id": "mSk2eT-NViTR"
      },
      "source": [
        "from tensorflow import keras\n",
        "model = keras.models.load_model('/content/sample_data/conv_1')"
      ],
      "execution_count": null,
      "outputs": []
    },
    {
      "cell_type": "code",
      "metadata": {
        "colab": {
          "base_uri": "https://localhost:8080/"
        },
        "id": "PyB8J2QgXP9Y",
        "outputId": "ae49583e-c109-45f9-a9f5-e655780a4fda"
      },
      "source": [
        "!unrar x \"/content/sample_data/conv_1.rar\" \"/content/sample_data\""
      ],
      "execution_count": null,
      "outputs": [
        {
          "output_type": "stream",
          "text": [
            "\n",
            "UNRAR 5.50 freeware      Copyright (c) 1993-2017 Alexander Roshal\n",
            "\n",
            "\n",
            "Extracting from /content/sample_data/conv_1.rar\n",
            "\n",
            "Creating    /content/sample_data/conv_1                               OK\n",
            "Extracting  /content/sample_data/conv_1/keras_metadata.pb                \b\b\b\b  0%\b\b\b\b\b  OK \n",
            "Extracting  /content/sample_data/conv_1/saved_model.pb                   \b\b\b\b  0%\b\b\b\b\b  OK \n",
            "Creating    /content/sample_data/conv_1/variables                     OK\n",
            "Extracting  /content/sample_data/conv_1/variables/variables.data-00000-of-00001     \b\b\b\b 43%\b\b\b\b 87%\b\b\b\b 99%\b\b\b\b\b  OK \n",
            "Extracting  /content/sample_data/conv_1/variables/variables.index        \b\b\b\b 99%\b\b\b\b\b  OK \n",
            "Creating    /content/sample_data/conv_1/assets                        OK\n",
            "All OK\n"
          ],
          "name": "stdout"
        }
      ]
    },
    {
      "cell_type": "code",
      "metadata": {
        "colab": {
          "resources": {
            "http://localhost:8080/nbextensions/google.colab/files.js": {
              "data": "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",
              "ok": true,
              "headers": [
                [
                  "content-type",
                  "application/javascript"
                ]
              ],
              "status": 200,
              "status_text": ""
            }
          },
          "base_uri": "https://localhost:8080/",
          "height": 112
        },
        "id": "PlTUgWw2qYDS",
        "outputId": "fd661180-411c-425f-8059-d987a9b87682"
      },
      "source": [
        "import numpy as np\n",
        "from google.colab import files\n",
        "from keras.preprocessing import image\n",
        "from PIL import ImageFile\n",
        "ImageFile.LOAD_TRUNCATED_IMAGES = True\n",
        "\n",
        "class_list = ['Angry', 'Disgust', 'Fear','Happy','Neutral','SAD','Surprise']\n",
        "\n",
        "uploaded = files.upload()\n",
        "\n",
        "for fn in uploaded.keys():\n",
        " \n",
        "  # predicting images\n",
        "  path = fn\n",
        "  img = image.load_img(path, target_size=(150, 150))\n",
        "  x = image.img_to_array(img)\n",
        "  x = np.expand_dims(x, axis=0)\n",
        "\n",
        "  images = np.vstack([x])\n",
        "  classes = model.predict(images, batch_size=10)\n",
        "  print(fn)\n",
        "  #print(classes)\n",
        "  for i in range(classes.shape[1]):\n",
        "    if classes[0,i] == 1:\n",
        "      print(class_list[i])                "
      ],
      "execution_count": null,
      "outputs": [
        {
          "output_type": "display_data",
          "data": {
            "text/html": [
              "\n",
              "     <input type=\"file\" id=\"files-281b80bc-31f6-421f-a427-3d761e417b48\" name=\"files[]\" multiple disabled\n",
              "        style=\"border:none\" />\n",
              "     <output id=\"result-281b80bc-31f6-421f-a427-3d761e417b48\">\n",
              "      Upload widget is only available when the cell has been executed in the\n",
              "      current browser session. Please rerun this cell to enable.\n",
              "      </output>\n",
              "      <script src=\"/nbextensions/google.colab/files.js\"></script> "
            ],
            "text/plain": [
              "<IPython.core.display.HTML object>"
            ]
          },
          "metadata": {
            "tags": []
          }
        },
        {
          "output_type": "stream",
          "text": [
            "Saving surprise.png to surprise.png\n",
            "surprise.png\n",
            "Disgust\n"
          ],
          "name": "stdout"
        }
      ]
    },
    {
      "cell_type": "code",
      "metadata": {
        "id": "cJlIt6RDblkn",
        "colab": {
          "base_uri": "https://localhost:8080/"
        },
        "outputId": "848cc4ff-e861-460d-c3f1-80fde91c80b6"
      },
      "source": [
        "classes"
      ],
      "execution_count": null,
      "outputs": [
        {
          "output_type": "execute_result",
          "data": {
            "text/plain": [
              "array([[0., 0., 0., 0., 0., 1., 0.]], dtype=float32)"
            ]
          },
          "metadata": {
            "tags": []
          },
          "execution_count": 29
        }
      ]
    },
    {
      "cell_type": "code",
      "metadata": {
        "colab": {
          "base_uri": "https://localhost:8080/"
        },
        "id": "tZemuBzxwTL4",
        "outputId": "8ad17643-1c5c-4896-df0b-5f5b30f5fa29"
      },
      "source": [
        "for i in range(classes.shape[1]):\n",
        "  if classes[0,i] == 1:\n",
        "    print(class_list[i])"
      ],
      "execution_count": null,
      "outputs": [
        {
          "output_type": "stream",
          "text": [
            "lower_left\n"
          ],
          "name": "stdout"
        }
      ]
    },
    {
      "cell_type": "code",
      "metadata": {
        "colab": {
          "base_uri": "https://localhost:8080/"
        },
        "id": "p_oHLP1Ywuae",
        "outputId": "ac8506a0-e501-4ffd-ee36-ce1d0ea6a7b8"
      },
      "source": [
        "classes.shape[1]"
      ],
      "execution_count": null,
      "outputs": [
        {
          "output_type": "execute_result",
          "data": {
            "text/plain": [
              "9"
            ]
          },
          "metadata": {
            "tags": []
          },
          "execution_count": 21
        }
      ]
    },
    {
      "cell_type": "markdown",
      "metadata": {
        "id": "AyPNfm8Y53TD"
      },
      "source": [
        "# Confusion"
      ]
    },
    {
      "cell_type": "code",
      "metadata": {
        "id": "t4lRxYDC55mv",
        "colab": {
          "base_uri": "https://localhost:8080/",
          "height": 584
        },
        "outputId": "2eb3b72f-06a9-421e-b3f4-d82f6ac5bdbb"
      },
      "source": [
        "import numpy as np\n",
        "import matplotlib.pyplot as plt\n",
        "data = []     # store all the generated data batches\n",
        "labels = []   # store all the generated label batches\n",
        "max_iter = 36  # maximum number of iterations, in each iteration one batch is generated; the proper value depends on batch size and size of whole data\n",
        "i = 0\n",
        "for d, l in validation_generator:\n",
        "    data.append(d)\n",
        "    labels.append(l)\n",
        "    i += 1\n",
        "    if i == max_iter:\n",
        "        break\n",
        "\n",
        "data = np.array(data)\n",
        "data = np.reshape(data, (data.shape[0]*data.shape[1],) + data.shape[2:])\n",
        "\n",
        "labels = np.array(labels)\n",
        "labels = np.reshape(labels, (labels.shape[0]*labels.shape[1],) + labels.shape[2:])\n",
        "\n",
        "\n",
        "X_test, y_test = data, labels\n",
        "\n",
        "y_preds = model.predict(X_test)\n",
        "\n",
        "\n",
        "# Create a confusion matrix\n",
        "#import itertools\n",
        "from sklearn.metrics import confusion_matrix\n",
        "\n",
        "# Note: The following confusion matrix code is a remix of Scikit-Learn's \n",
        "# plot_confusion_matrix function - https://scikit-learn.org/stable/modules/generated/sklearn.metrics.plot_confusion_matrix.html\n",
        "# and Made with ML's introductory notebook - https://github.com/GokuMohandas/MadeWithML/blob/main/notebooks/08_Neural_Networks.ipynb \n",
        "\n",
        "figsize = (10, 10)\n",
        "\n",
        "# Create the confusion matrix\n",
        "cm = confusion_matrix(tf.argmax(tf.constant(y_test)), tf.argmax(tf.round(y_preds)))\n",
        "cm_norm = cm.astype(\"float\") / cm.sum(axis=1)[:, np.newaxis] # normalize it\n",
        "n_classes = cm.shape[0]\n",
        "\n",
        "# Let's prettify it\n",
        "fig, ax = plt.subplots(figsize=figsize)\n",
        "# Create a matrix plot\n",
        "cax = ax.matshow(cm, cmap=plt.cm.Blues) # https://matplotlib.org/3.2.0/api/_as_gen/matplotlib.axes.Axes.matshow.html\n",
        "fig.colorbar(cax)\n",
        "\n",
        "# Create classes\n",
        "classes = False\n",
        "\n",
        "if classes:\n",
        "  labels = classes\n",
        "else:\n",
        "  labels = np.arange(cm.shape[0])\n",
        "\n",
        "# Label the axes\n",
        "ax.set(title=\"Confusion Matrix\",\n",
        "       xlabel=\"Predicted label\",\n",
        "       ylabel=\"True label\",\n",
        "       xticks=np.arange(n_classes),\n",
        "       yticks=np.arange(n_classes),\n",
        "       xticklabels=labels,\n",
        "       yticklabels=labels)\n",
        "\n",
        "# Set x-axis labels to bottom\n",
        "ax.xaxis.set_label_position(\"bottom\")\n",
        "ax.xaxis.tick_bottom()\n",
        "\n",
        "# Adjust label size\n",
        "ax.xaxis.label.set_size(20)\n",
        "ax.yaxis.label.set_size(20)\n",
        "ax.title.set_size(20)\n",
        "\n",
        "# Set threshold for different colors\n",
        "threshold = (cm.max() + cm.min()) / 2.\n",
        "\n",
        "# Plot the text on each cell\n",
        "# for i, j in itertools.product(range(cm.shape[0]), range(cm.shape[1])):\n",
        "#   plt.text(j, i, f\"{cm[i, j]} ({cm_norm[i, j]*100:.1f}%)\",\n",
        "#            horizontalalignment=\"center\",\n",
        "#            color=\"white\" if cm[i, j] > threshold else \"black\",\n",
        "#            size=15)"
      ],
      "execution_count": null,
      "outputs": [
        {
          "output_type": "display_data",
          "data": {
            "image/png": "[encoded data removed]",
            "text/plain": [
              "<Figure size 720x720 with 2 Axes>"
            ]
          },
          "metadata": {
            "tags": [],
            "needs_background": "light"
          }
        }
      ]
    }
  ]
}